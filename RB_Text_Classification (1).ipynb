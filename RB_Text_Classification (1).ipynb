{
  "nbformat": 4,
  "nbformat_minor": 0,
  "metadata": {
    "colab": {
      "provenance": []
    },
    "kernelspec": {
      "name": "python3",
      "display_name": "Python 3"
    },
    "language_info": {
      "name": "python"
    }
  },
  "cells": [
    {
      "cell_type": "markdown",
      "source": [
        "### Rule Base"
      ],
      "metadata": {
        "id": "zjQY-f40Xm-P"
      }
    },
    {
      "cell_type": "markdown",
      "source": [
        "Imports and Initialization"
      ],
      "metadata": {
        "id": "oxRAvVXcXrEv"
      }
    },
    {
      "cell_type": "code",
      "source": [
        "!pip install langdetect googletrans==4.0.0-rc1\n",
        "!pip install pandas vaderSentiment"
      ],
      "metadata": {
        "colab": {
          "base_uri": "https://localhost:8080/"
        },
        "id": "t8lOpxTOX5CE",
        "outputId": "73163541-91c5-409b-bb8d-1fd7ea25f5b9"
      },
      "execution_count": null,
      "outputs": [
        {
          "output_type": "stream",
          "name": "stdout",
          "text": [
            "Requirement already satisfied: langdetect in /usr/local/lib/python3.10/dist-packages (1.0.9)\n",
            "Requirement already satisfied: googletrans==4.0.0-rc1 in /usr/local/lib/python3.10/dist-packages (4.0.0rc1)\n",
            "Requirement already satisfied: httpx==0.13.3 in /usr/local/lib/python3.10/dist-packages (from googletrans==4.0.0-rc1) (0.13.3)\n",
            "Requirement already satisfied: certifi in /usr/local/lib/python3.10/dist-packages (from httpx==0.13.3->googletrans==4.0.0-rc1) (2024.8.30)\n",
            "Requirement already satisfied: hstspreload in /usr/local/lib/python3.10/dist-packages (from httpx==0.13.3->googletrans==4.0.0-rc1) (2024.9.1)\n",
            "Requirement already satisfied: sniffio in /usr/local/lib/python3.10/dist-packages (from httpx==0.13.3->googletrans==4.0.0-rc1) (1.3.1)\n",
            "Requirement already satisfied: chardet==3.* in /usr/local/lib/python3.10/dist-packages (from httpx==0.13.3->googletrans==4.0.0-rc1) (3.0.4)\n",
            "Requirement already satisfied: idna==2.* in /usr/local/lib/python3.10/dist-packages (from httpx==0.13.3->googletrans==4.0.0-rc1) (2.10)\n",
            "Requirement already satisfied: rfc3986<2,>=1.3 in /usr/local/lib/python3.10/dist-packages (from httpx==0.13.3->googletrans==4.0.0-rc1) (1.5.0)\n",
            "Requirement already satisfied: httpcore==0.9.* in /usr/local/lib/python3.10/dist-packages (from httpx==0.13.3->googletrans==4.0.0-rc1) (0.9.1)\n",
            "Requirement already satisfied: h11<0.10,>=0.8 in /usr/local/lib/python3.10/dist-packages (from httpcore==0.9.*->httpx==0.13.3->googletrans==4.0.0-rc1) (0.9.0)\n",
            "Requirement already satisfied: h2==3.* in /usr/local/lib/python3.10/dist-packages (from httpcore==0.9.*->httpx==0.13.3->googletrans==4.0.0-rc1) (3.2.0)\n",
            "Requirement already satisfied: hyperframe<6,>=5.2.0 in /usr/local/lib/python3.10/dist-packages (from h2==3.*->httpcore==0.9.*->httpx==0.13.3->googletrans==4.0.0-rc1) (5.2.0)\n",
            "Requirement already satisfied: hpack<4,>=3.0 in /usr/local/lib/python3.10/dist-packages (from h2==3.*->httpcore==0.9.*->httpx==0.13.3->googletrans==4.0.0-rc1) (3.0.0)\n",
            "Requirement already satisfied: six in /usr/local/lib/python3.10/dist-packages (from langdetect) (1.16.0)\n",
            "Requirement already satisfied: pandas in /usr/local/lib/python3.10/dist-packages (2.1.4)\n",
            "Requirement already satisfied: vaderSentiment in /usr/local/lib/python3.10/dist-packages (3.3.2)\n",
            "Requirement already satisfied: numpy<2,>=1.22.4 in /usr/local/lib/python3.10/dist-packages (from pandas) (1.26.4)\n",
            "Requirement already satisfied: python-dateutil>=2.8.2 in /usr/local/lib/python3.10/dist-packages (from pandas) (2.8.2)\n",
            "Requirement already satisfied: pytz>=2020.1 in /usr/local/lib/python3.10/dist-packages (from pandas) (2024.2)\n",
            "Requirement already satisfied: tzdata>=2022.1 in /usr/local/lib/python3.10/dist-packages (from pandas) (2024.1)\n",
            "Requirement already satisfied: requests in /usr/local/lib/python3.10/dist-packages (from vaderSentiment) (2.32.3)\n",
            "Requirement already satisfied: six>=1.5 in /usr/local/lib/python3.10/dist-packages (from python-dateutil>=2.8.2->pandas) (1.16.0)\n",
            "Requirement already satisfied: charset-normalizer<4,>=2 in /usr/local/lib/python3.10/dist-packages (from requests->vaderSentiment) (3.3.2)\n",
            "Requirement already satisfied: idna<4,>=2.5 in /usr/local/lib/python3.10/dist-packages (from requests->vaderSentiment) (2.10)\n",
            "Requirement already satisfied: urllib3<3,>=1.21.1 in /usr/local/lib/python3.10/dist-packages (from requests->vaderSentiment) (2.0.7)\n",
            "Requirement already satisfied: certifi>=2017.4.17 in /usr/local/lib/python3.10/dist-packages (from requests->vaderSentiment) (2024.8.30)\n"
          ]
        }
      ]
    },
    {
      "cell_type": "code",
      "source": [
        "import pandas as pd\n",
        "from langdetect import detect\n",
        "from googletrans import Translator\n",
        "from vaderSentiment.vaderSentiment import SentimentIntensityAnalyzer"
      ],
      "metadata": {
        "id": "sG-O0yiAXuzk"
      },
      "execution_count": null,
      "outputs": []
    },
    {
      "cell_type": "code",
      "source": [
        "# Initialize VADER sentiment analyzer and Google Translator\n",
        "analyzer = SentimentIntensityAnalyzer()\n",
        "translator = Translator()"
      ],
      "metadata": {
        "id": "vZsnAZI0XzrP"
      },
      "execution_count": null,
      "outputs": []
    },
    {
      "cell_type": "markdown",
      "source": [
        " Data Loading and Preprocessing"
      ],
      "metadata": {
        "id": "Ire7IHL6XmVD"
      }
    },
    {
      "cell_type": "code",
      "source": [
        "# Load the CSV file\n",
        "file_path = 'AI in edu dataset - Sheet1.csv'  # Replace with the correct path to your file\n",
        "data = pd.read_csv(file_path)\n",
        "\n",
        "# Ensure the \"Content\" column exists\n",
        "if 'Content' not in data.columns:\n",
        "    raise ValueError('CSV file does not have a \"Content\" column.')\n",
        "\n",
        "# Drop rows with missing or NaN values in the \"Content\" column\n",
        "data = data.dropna(subset=['Content'])\n",
        "\n",
        "# Ensure all values in \"Content\" are strings\n",
        "data['Content'] = data['Content'].astype(str)\n",
        "\n",
        "# Print the first few rows to inspect the data\n",
        "print(data.head())\n"
      ],
      "metadata": {
        "colab": {
          "base_uri": "https://localhost:8080/"
        },
        "id": "AFqiJZy0YRHx",
        "outputId": "947add86-c727-4154-bf51-caacd1b0dd9f"
      },
      "execution_count": null,
      "outputs": [
        {
          "output_type": "stream",
          "name": "stdout",
          "text": [
            "                                             Content Platform Sentiment\n",
            "0  So cheating vs resourcesful is just someone pt...      NaN   Neutral\n",
            "1  What many people fail to realize din is being ...      NaN  Negative\n",
            "2  Dami paliwanag. Cheating naman talaga rin ang ...      NaN  Negative\n",
            "3  aside sa education, there are many problems we...      NaN   Neutral\n",
            "4  malamang, ofc kasalanan ng magulang kasi wlang...      NaN  Negative\n"
          ]
        }
      ]
    },
    {
      "cell_type": "markdown",
      "source": [
        "Language Detection and Translation"
      ],
      "metadata": {
        "id": "YTHjwlCYYR7P"
      }
    },
    {
      "cell_type": "code",
      "source": [
        "def detect_language(text):\n",
        "    try:\n",
        "        lang = detect(text)\n",
        "        return 'en' if lang == 'en' else 'tl'  # Assume non-English is Taglish\n",
        "    except:\n",
        "        return 'unknown'\n",
        "\n",
        "# Apply language detection to each row\n",
        "data['Detected_Language'] = data['Content'].apply(detect_language)\n",
        "\n",
        "# Separate English and Taglish content\n",
        "english_content = data[data['Detected_Language'] == 'en']\n",
        "taglish_content = data[data['Detected_Language'] == 'tl']\n",
        "\n",
        "# Display results\n",
        "print(\"WORLDWIDE Content:\")\n",
        "print(english_content[['Content', 'Detected_Language']].head())\n",
        "print(\"\\nPELIPENS Content:\")\n",
        "print(taglish_content[['Content', 'Detected_Language']].head())\n",
        "\n",
        "# Count of each language\n",
        "language_counts = data['Detected_Language'].value_counts()\n",
        "print(\"\\nLanguage Counts:\")\n",
        "print(language_counts)"
      ],
      "metadata": {
        "colab": {
          "base_uri": "https://localhost:8080/"
        },
        "id": "7oKjIbks4V-8",
        "outputId": "0f9fdc16-fa25-4241-db86-93d746b82353"
      },
      "execution_count": null,
      "outputs": [
        {
          "output_type": "stream",
          "name": "stdout",
          "text": [
            "WORLDWIDE Content:\n",
            "                                             Content Detected_Language\n",
            "1  What many people fail to realize din is being ...                en\n",
            "3  aside sa education, there are many problems we...                en\n",
            "4  malamang, ofc kasalanan ng magulang kasi wlang...                en\n",
            "5  The education system that AI will destroy will...                en\n",
            "6  AI tool sare very helpful but you need to use ...                en\n",
            "\n",
            "PELIPENS Content:\n",
            "                                               Content Detected_Language\n",
            "0    So cheating vs resourcesful is just someone pt...                tl\n",
            "2    Dami paliwanag. Cheating naman talaga rin ang ...                tl\n",
            "228  AI tutors are doubling student engagement in e...                tl\n",
            "242  Ok sya, nagbibigay ng idea at pang research, m...                tl\n",
            "243  Kung aasa kayo sa AI to do school work, kayo d...                tl\n",
            "\n",
            "Language Counts:\n",
            "Detected_Language\n",
            "en    290\n",
            "tl    141\n",
            "Name: count, dtype: int64\n"
          ]
        }
      ]
    },
    {
      "cell_type": "code",
      "source": [
        "# Function to detect language and translate if not English\n",
        "def detect_and_translate(text):\n",
        "    try:\n",
        "        # Detect language of the text\n",
        "        lang = detect(text)\n",
        "\n",
        "        # Translate to English if the detected language is not English\n",
        "        if lang != 'en':\n",
        "            translated = translator.translate(text, src=lang, dest='en').text\n",
        "            return translated\n",
        "        return text\n",
        "    except Exception as e:\n",
        "        print(f\"Error during translation: {e}\")\n",
        "        return text  # Return original text if detection/translation fails\n",
        "\n",
        "# Loop through the first few rows and show the original and translated text\n",
        "for index, row in data.head(10).iterrows():  # Adjust the number as needed\n",
        "    original_text = row['Content']\n",
        "    translated_text = detect_and_translate(original_text)\n",
        "\n",
        "    print(f\"Row {index + 1}\") , print('=' * 1000)\n",
        "    print(f\"Original Text: {original_text}\")\n",
        "    print(f\"Translated Text: {translated_text}\")\n",
        "    print('=' * 1000)\n",
        "\n"
      ],
      "metadata": {
        "colab": {
          "base_uri": "https://localhost:8080/"
        },
        "id": "4ETokLGxYVKE",
        "outputId": "57950b8b-bb93-4f72-fc9e-8db3ea15db94"
      },
      "execution_count": 131,
      "outputs": [
        {
          "output_type": "stream",
          "name": "stdout",
          "text": [
            "Row 1\n",
            "========================================================================================================================================================================================================================================================================================================================================================================================================================================================================================================================================================================================================================================================================================================================================================================================================================================================================================================================================================================================================================================\n",
            "Original Text: So cheating vs resourcesful is just someone pt of view? Tapos you follow rules and u expect innovations? Alam ko lang bukambibig ng talonan ang pandaraya. Kung lahat ng tao nag papafollow ng rules di nasa stone age pa tayo.\n",
            "Translated Text: So cheating vs resourcesful is just someone PT of view?Then you follow rules and u expect innovations?I just know the scandal will make the fraud.If everyone goes to the rules we are not in the stone age.\n",
            "========================================================================================================================================================================================================================================================================================================================================================================================================================================================================================================================================================================================================================================================================================================================================================================================================================================================================================================================================================================================================================================\n",
            "Row 2\n",
            "========================================================================================================================================================================================================================================================================================================================================================================================================================================================================================================================================================================================================================================================================================================================================================================================================================================================================================================================================================================================================================================\n",
            "Original Text: What many people fail to realize din is being cunning is not the same as being resourceful; and not following the rules doesn't equate to innovation or progress. \\n\\nCrime is also not following the rules, is it then progress? Hindi diba. Kasi you prioritize yourself and being cunning to get an edge rather than allowing yourself to be evaluated properly and maadress whatever you are lacking. Kaya nga we need experts din to look into the objectives sa class. \\n\\nIf ang objective is being evaluated for what you know, dapat gawin ng tama to know kung ano ang weakness mo talaga.\n",
            "Translated Text: What many people fail to realize din is being cunning is not the same as being resourceful; and not following the rules doesn't equate to innovation or progress. \\n\\nCrime is also not following the rules, is it then progress? Hindi diba. Kasi you prioritize yourself and being cunning to get an edge rather than allowing yourself to be evaluated properly and maadress whatever you are lacking. Kaya nga we need experts din to look into the objectives sa class. \\n\\nIf ang objective is being evaluated for what you know, dapat gawin ng tama to know kung ano ang weakness mo talaga.\n",
            "========================================================================================================================================================================================================================================================================================================================================================================================================================================================================================================================================================================================================================================================================================================================================================================================================================================================================================================================================================================================================================================\n",
            "Row 3\n",
            "========================================================================================================================================================================================================================================================================================================================================================================================================================================================================================================================================================================================================================================================================================================================================================================================================================================================================================================================================================================================================================================\n",
            "Original Text: Dami paliwanag. Cheating naman talaga rin ang bagsak.\\n\\nAno ba ang academic integrity? Masasabi mo bang sa iyo ang isang bagay kung hindi mo sarili ang ouput?\\n\\nIntegridad po kailangan. Daming explanation. What a cheater. Proud ka pa niyan ha.\n",
            "Translated Text: Volume explanation.Cheating is also a failing. \\ N \\ n What is Academic Integrity?Can you tell you something if you are not ouput yourself? \\ N \\ nintegrity is needed.Daming explanation.What a cheater.Proud ka pa ni ha.\n",
            "========================================================================================================================================================================================================================================================================================================================================================================================================================================================================================================================================================================================================================================================================================================================================================================================================================================================================================================================================================================================================================================\n",
            "Row 4\n",
            "========================================================================================================================================================================================================================================================================================================================================================================================================================================================================================================================================================================================================================================================================================================================================================================================================================================================================================================================================================================================================================================\n",
            "Original Text: aside sa education, there are many problems we're encountering in our world aside sa ganyan, world hunger, inequality, abuse, discrimination, mental health, poverty, safety. i dont think it would be easy to resolve educating everyone when infact the educated mismo or the people with power uses it to their advantage. education is a basic right but not everyone is privellaged to knowledge, that explains why hindi pantay2 ang IQ, baka kasi magamit for selfish reasons, ehem corruption sa pinas\n",
            "Translated Text: aside sa education, there are many problems we're encountering in our world aside sa ganyan, world hunger, inequality, abuse, discrimination, mental health, poverty, safety. i dont think it would be easy to resolve educating everyone when infact the educated mismo or the people with power uses it to their advantage. education is a basic right but not everyone is privellaged to knowledge, that explains why hindi pantay2 ang IQ, baka kasi magamit for selfish reasons, ehem corruption sa pinas\n",
            "========================================================================================================================================================================================================================================================================================================================================================================================================================================================================================================================================================================================================================================================================================================================================================================================================================================================================================================================================================================================================================================\n",
            "Row 5\n",
            "========================================================================================================================================================================================================================================================================================================================================================================================================================================================================================================================================================================================================================================================================================================================================================================================================================================================================================================================================================================================================================================\n",
            "Original Text: malamang, ofc kasalanan ng magulang kasi wlang family planning and planning para sa future ng anak, excuse me. just because ang definition niyo ng success ay pagkakaroon agad ng bahay at milyon doesn't mean na yan dapat iaachieve for us. 2023 na, even gen z sa other countries according to surveys are struggling in buying houses, mostly are resorting to condos and apartments. why, because of inflation. tas bat ba di kami yumayaman, ofc sa parents na din un mismo duh. sensitive ba? why not? bawal ba? kung ganyan magdisiplina magulang mo (?) ampanget naman, probably reflects your inner child and parental neglect.\\n\\nyes po, the brain is an organ and it's illness is valid. i'm not reflecting on brats and spoiled kids, dont generalize everyone, maybe ikaw lang insensitive :D just because u have it worse doesnt mean u have the right to invalidate others.\\n\\nnew generation na po, mahirap isiping yumaman sa panahon ngayon, inflation plus most parents can't even fully support their child into college, what do u expect. ikaw po ba? meron naba yang mayaman na 7digit sa bank account mo? ang point ko ano gagawin if yumaman marami sa gen z? that is not my point at all, does it define success? ofc not. \\n\\n\\nSO WHAT'S UR POINT OF UR COMMENT. none kasi the people are still using AI and internet technologies for academics kasi the school system is fucked. nakaka glamour ng credentials, knowledge? sure, applied. skills, may natutunan, maapply ba? not really pano bayan pinapa pokus kami sa schoolworks at modules rather than learning, experience etc.\n",
            "Translated Text: malamang, ofc kasalanan ng magulang kasi wlang family planning and planning para sa future ng anak, excuse me. just because ang definition niyo ng success ay pagkakaroon agad ng bahay at milyon doesn't mean na yan dapat iaachieve for us. 2023 na, even gen z sa other countries according to surveys are struggling in buying houses, mostly are resorting to condos and apartments. why, because of inflation. tas bat ba di kami yumayaman, ofc sa parents na din un mismo duh. sensitive ba? why not? bawal ba? kung ganyan magdisiplina magulang mo (?) ampanget naman, probably reflects your inner child and parental neglect.\\n\\nyes po, the brain is an organ and it's illness is valid. i'm not reflecting on brats and spoiled kids, dont generalize everyone, maybe ikaw lang insensitive :D just because u have it worse doesnt mean u have the right to invalidate others.\\n\\nnew generation na po, mahirap isiping yumaman sa panahon ngayon, inflation plus most parents can't even fully support their child into college, what do u expect. ikaw po ba? meron naba yang mayaman na 7digit sa bank account mo? ang point ko ano gagawin if yumaman marami sa gen z? that is not my point at all, does it define success? ofc not. \\n\\n\\nSO WHAT'S UR POINT OF UR COMMENT. none kasi the people are still using AI and internet technologies for academics kasi the school system is fucked. nakaka glamour ng credentials, knowledge? sure, applied. skills, may natutunan, maapply ba? not really pano bayan pinapa pokus kami sa schoolworks at modules rather than learning, experience etc.\n",
            "========================================================================================================================================================================================================================================================================================================================================================================================================================================================================================================================================================================================================================================================================================================================================================================================================================================================================================================================================================================================================================================\n",
            "Row 6\n",
            "========================================================================================================================================================================================================================================================================================================================================================================================================================================================================================================================================================================================================================================================================================================================================================================================================================================================================================================================================================================================================================================\n",
            "Original Text: The education system that AI will destroy will be the system that doesn’t adapt and change to a world with AI\n",
            "Translated Text: The education system that AI will destroy will be the system that doesn’t adapt and change to a world with AI\n",
            "========================================================================================================================================================================================================================================================================================================================================================================================================================================================================================================================================================================================================================================================================================================================================================================================================================================================================================================================================================================================================================================\n",
            "Row 7\n",
            "========================================================================================================================================================================================================================================================================================================================================================================================================================================================================================================================================================================================================================================================================================================================================================================================================================================================================================================================================================================================================================================\n",
            "Original Text: AI tool sare very helpful but you need to use it properly and NO they are not going to replace humans. Because you still need the human touch!\n",
            "Translated Text: AI tool sare very helpful but you need to use it properly and NO they are not going to replace humans. Because you still need the human touch!\n",
            "========================================================================================================================================================================================================================================================================================================================================================================================================================================================================================================================================================================================================================================================================================================================================================================================================================================================================================================================================================================================================================================\n",
            "Row 8\n",
            "========================================================================================================================================================================================================================================================================================================================================================================================================================================================================================================================================================================================================================================================================================================================================================================================================================================================================================================================================================================================================================================\n",
            "Original Text: AI and teachers should join forces in a collaborative effort to revolutionize education. AI and teachers can empower students with the best of both.\n",
            "Translated Text: AI and teachers should join forces in a collaborative effort to revolutionize education. AI and teachers can empower students with the best of both.\n",
            "========================================================================================================================================================================================================================================================================================================================================================================================================================================================================================================================================================================================================================================================================================================================================================================================================================================================================================================================================================================================================================================\n",
            "Row 9\n",
            "========================================================================================================================================================================================================================================================================================================================================================================================================================================================================================================================================================================================================================================================================================================================================================================================================================================================================================================================================================================================================================================\n",
            "Original Text: Kids that learn how to use the AI will realize what careers will be obsolete because of AI and take a smarter path\n",
            "Translated Text: Kids that learn how to use the AI will realize what careers will be obsolete because of AI and take a smarter path\n",
            "========================================================================================================================================================================================================================================================================================================================================================================================================================================================================================================================================================================================================================================================================================================================================================================================================================================================================================================================================================================================================================================\n",
            "Row 10\n",
            "========================================================================================================================================================================================================================================================================================================================================================================================================================================================================================================================================================================================================================================================================================================================================================================================================================================================================================================================================================================================================================================\n",
            "Original Text: But here’s the thing, if we embrace the AI, how will students ever learn to form their own opinions if they can ask an AI to form it for them\n",
            "Translated Text: But here’s the thing, if we embrace the AI, how will students ever learn to form their own opinions if they can ask an AI to form it for them\n",
            "========================================================================================================================================================================================================================================================================================================================================================================================================================================================================================================================================================================================================================================================================================================================================================================================================================================================================================================================================================================================================================================\n"
          ]
        }
      ]
    },
    {
      "cell_type": "markdown",
      "source": [
        "Sentiment Analysis"
      ],
      "metadata": {
        "id": "yyUXH3tkYZ9I"
      }
    },
    {
      "cell_type": "code",
      "source": [
        "# Function to analyze sentiment using VADER\n",
        "def analyze_sentiment(text):\n",
        "    sentiment_scores = analyzer.polarity_scores(text)\n",
        "    compound_score = sentiment_scores['compound']  # Use compound score\n",
        "\n",
        "    # Rule-based classification based on compound score\n",
        "    if compound_score >= 0.05:\n",
        "        sentiment = 'Positive'\n",
        "    elif compound_score <= -0.05:\n",
        "        sentiment = 'Negative'\n",
        "    else:\n",
        "        sentiment = 'Neutral'\n",
        "\n",
        "    return sentiment, sentiment_scores\n",
        "\n",
        "# Apply language detection to each row\n",
        "data['Detected_Language'] = data['Content'].apply(detect_language)\n",
        "\n",
        "# Apply translation and sentiment analysis to each row\n",
        "results = []\n",
        "for index, row in data.iterrows():\n",
        "    text = row['Content']\n",
        "    lang = row['Detected_Language']\n",
        "    translated_text = detect_and_translate(text)  # Translate if necessary\n",
        "    sentiment, scores = analyze_sentiment(translated_text)\n",
        "\n",
        "    results.append({\n",
        "        'Original Content': text,\n",
        "        'Translated Content': translated_text,\n",
        "        'Sentiment': sentiment,\n",
        "        'Compound Score': scores['compound'],\n",
        "        'Positive Score': scores['pos'],\n",
        "        'Neutral Score': scores['neu'],\n",
        "        'Negative Score': scores['neg'],\n",
        "        'Detected_Language': lang\n",
        "    })\n",
        "\n",
        "# Convert the results to a DataFrame\n",
        "sentiment_df = pd.DataFrame(results)\n",
        "\n",
        "# Save the results to a new CSV file (optional)\n",
        "output_file = 'sentiment_analysis_with_translation.csv'\n",
        "sentiment_df.to_csv(output_file, index=False)\n",
        "\n",
        "# Print the first few rows of the results for inspection\n",
        "print(sentiment_df.head())\n"
      ],
      "metadata": {
        "colab": {
          "base_uri": "https://localhost:8080/"
        },
        "id": "IMkr2HCx8Aao",
        "outputId": "bdfea840-0c00-4f57-b85e-705905282c0f"
      },
      "execution_count": 133,
      "outputs": [
        {
          "output_type": "stream",
          "name": "stdout",
          "text": [
            "                                    Original Content  \\\n",
            "0  So cheating vs resourcesful is just someone pt...   \n",
            "1  What many people fail to realize din is being ...   \n",
            "2  Dami paliwanag. Cheating naman talaga rin ang ...   \n",
            "3  aside sa education, there are many problems we...   \n",
            "4  malamang, ofc kasalanan ng magulang kasi wlang...   \n",
            "\n",
            "                                  Translated Content Sentiment  \\\n",
            "0  So cheating vs resourcesful is just someone PT...  Negative   \n",
            "1  What many people fail to realize din is being ...  Negative   \n",
            "2  Volume explanation.Cheating is also a failing....  Negative   \n",
            "3  aside sa education, there are many problems we...  Negative   \n",
            "4  malamang, ofc kasalanan ng magulang kasi wlang...  Negative   \n",
            "\n",
            "   Compound Score  Positive Score  Neutral Score  Negative Score  \\\n",
            "0         -0.7994           0.000          0.830           0.170   \n",
            "1         -0.4374           0.051          0.872           0.077   \n",
            "2         -0.5661           0.000          0.908           0.092   \n",
            "3         -0.7269           0.080          0.783           0.137   \n",
            "4         -0.5426           0.064          0.860           0.076   \n",
            "\n",
            "  Detected_Language  \n",
            "0                tl  \n",
            "1                en  \n",
            "2                tl  \n",
            "3                en  \n",
            "4                en  \n"
          ]
        }
      ]
    },
    {
      "cell_type": "markdown",
      "source": [
        "Sentiment Count\n"
      ],
      "metadata": {
        "id": "jxkv5hh_Yf2W"
      }
    },
    {
      "cell_type": "code",
      "source": [
        "# Count sentiments overall\n",
        "overall_sentiment_counts = sentiment_df['Sentiment'].value_counts()\n",
        "\n",
        "# Count sentiments by language\n",
        "english_sentiment_counts = sentiment_df[sentiment_df['Detected_Language'] == 'en']['Sentiment'].value_counts()\n",
        "taglish_sentiment_counts = sentiment_df[sentiment_df['Detected_Language'] == 'tl']['Sentiment'].value_counts()\n",
        "\n",
        "# Print the counts for inspection\n",
        "print(\"Overall Sentiment Counts:\")\n",
        "print(overall_sentiment_counts)\n",
        "\n",
        "print(\"\\nWorldwide Sentiment Counts:\")\n",
        "print(english_sentiment_counts)\n",
        "\n",
        "print(\"\\nPelepens Sentiment Counts:\")\n",
        "print(taglish_sentiment_counts)\n"
      ],
      "metadata": {
        "colab": {
          "base_uri": "https://localhost:8080/"
        },
        "id": "8St6Rdls9kXy",
        "outputId": "d7f7bace-66a4-4717-f815-361b303c678d"
      },
      "execution_count": 134,
      "outputs": [
        {
          "output_type": "stream",
          "name": "stdout",
          "text": [
            "Overall Sentiment Counts:\n",
            "Sentiment\n",
            "Positive    238\n",
            "Negative     97\n",
            "Neutral      96\n",
            "Name: count, dtype: int64\n",
            "\n",
            "Worldwide Sentiment Counts:\n",
            "Sentiment\n",
            "Positive    187\n",
            "Negative     59\n",
            "Neutral      44\n",
            "Name: count, dtype: int64\n",
            "\n",
            "Pelepens Sentiment Counts:\n",
            "Sentiment\n",
            "Neutral     52\n",
            "Positive    51\n",
            "Negative    38\n",
            "Name: count, dtype: int64\n"
          ]
        }
      ]
    }
  ]
}
{
  "cells": [
    {
      "cell_type": "code",
      "execution_count": null,
      "id": "dc5b9bbc-a058-4ce5-8764-3db41eab5382",
      "metadata": {
        "colab": {
          "base_uri": "https://localhost:8080/"
        },
        "id": "dc5b9bbc-a058-4ce5-8764-3db41eab5382",
        "outputId": "3721ab73-32e1-41d4-89a0-47a5bc50006e"
      },
      "outputs": [
        {
          "name": "stdout",
          "output_type": "stream",
          "text": [
            "Collecting git+https://github.com/andrianllmm/tagalog-stemmer.git@main\n",
            "  Cloning https://github.com/andrianllmm/tagalog-stemmer.git (to revision main) to /tmp/pip-req-build-ucgrl_5z\n",
            "  Running command git clone --filter=blob:none --quiet https://github.com/andrianllmm/tagalog-stemmer.git /tmp/pip-req-build-ucgrl_5z\n",
            "  Resolved https://github.com/andrianllmm/tagalog-stemmer.git to commit b5babfd4caebf8a8f480f8adab9f1c97f42a3baa\n",
            "  Installing build dependencies ... \u001b[?25l\u001b[?25hdone\n",
            "  Getting requirements to build wheel ... \u001b[?25l\u001b[?25hdone\n",
            "  Preparing metadata (pyproject.toml) ... \u001b[?25l\u001b[?25hdone\n",
            "Requirement already satisfied: nltk>=3.8.1 in /usr/local/lib/python3.10/dist-packages (from tglstemmer==0.0.1) (3.8.1)\n",
            "Requirement already satisfied: tabulate>=0.9.0 in /usr/local/lib/python3.10/dist-packages (from tglstemmer==0.0.1) (0.9.0)\n",
            "Requirement already satisfied: click in /usr/local/lib/python3.10/dist-packages (from nltk>=3.8.1->tglstemmer==0.0.1) (8.1.7)\n",
            "Requirement already satisfied: joblib in /usr/local/lib/python3.10/dist-packages (from nltk>=3.8.1->tglstemmer==0.0.1) (1.4.2)\n",
            "Requirement already satisfied: regex>=2021.8.3 in /usr/local/lib/python3.10/dist-packages (from nltk>=3.8.1->tglstemmer==0.0.1) (2024.9.11)\n",
            "Requirement already satisfied: tqdm in /usr/local/lib/python3.10/dist-packages (from nltk>=3.8.1->tglstemmer==0.0.1) (4.66.5)\n",
            "Building wheels for collected packages: tglstemmer\n",
            "  Building wheel for tglstemmer (pyproject.toml) ... \u001b[?25l\u001b[?25hdone\n",
            "  Created wheel for tglstemmer: filename=tglstemmer-0.0.1-py3-none-any.whl size=146663 sha256=dc5bcc9a5517656c9df7a380eceef84afdd73d7104232642b91030470e3861f6\n",
            "  Stored in directory: /tmp/pip-ephem-wheel-cache-75nfdcnh/wheels/8b/a1/58/0ac74f560df0e1894833f3d6d2b6efcf76b8cf603ebd847cf4\n",
            "Successfully built tglstemmer\n",
            "Installing collected packages: tglstemmer\n",
            "Successfully installed tglstemmer-0.0.1\n",
            "Collecting langdetect\n",
            "  Downloading langdetect-1.0.9.tar.gz (981 kB)\n",
            "\u001b[2K     \u001b[90m━━━━━━━━━━━━━━━━━━━━━━━━━━━━━━━━━━━━━━━━\u001b[0m \u001b[32m981.5/981.5 kB\u001b[0m \u001b[31m12.4 MB/s\u001b[0m eta \u001b[36m0:00:00\u001b[0m\n",
            "\u001b[?25h  Preparing metadata (setup.py) ... \u001b[?25l\u001b[?25hdone\n",
            "Requirement already satisfied: six in /usr/local/lib/python3.10/dist-packages (from langdetect) (1.16.0)\n",
            "Building wheels for collected packages: langdetect\n",
            "  Building wheel for langdetect (setup.py) ... \u001b[?25l\u001b[?25hdone\n",
            "  Created wheel for langdetect: filename=langdetect-1.0.9-py3-none-any.whl size=993221 sha256=b3c08a45d9ed7aef103e7b0c690ea36649bd966bf24c4ddb9223b33103486f9d\n",
            "  Stored in directory: /root/.cache/pip/wheels/95/03/7d/59ea870c70ce4e5a370638b5462a7711ab78fba2f655d05106\n",
            "Successfully built langdetect\n",
            "Installing collected packages: langdetect\n",
            "Successfully installed langdetect-1.0.9\n",
            "Collecting googletrans==4.0.0-rc1\n",
            "  Downloading googletrans-4.0.0rc1.tar.gz (20 kB)\n",
            "  Preparing metadata (setup.py) ... \u001b[?25l\u001b[?25hdone\n",
            "Collecting httpx==0.13.3 (from googletrans==4.0.0-rc1)\n",
            "  Downloading httpx-0.13.3-py3-none-any.whl.metadata (25 kB)\n",
            "Requirement already satisfied: certifi in /usr/local/lib/python3.10/dist-packages (from httpx==0.13.3->googletrans==4.0.0-rc1) (2024.8.30)\n",
            "Collecting hstspreload (from httpx==0.13.3->googletrans==4.0.0-rc1)\n",
            "  Downloading hstspreload-2024.9.1-py3-none-any.whl.metadata (2.1 kB)\n",
            "Requirement already satisfied: sniffio in /usr/local/lib/python3.10/dist-packages (from httpx==0.13.3->googletrans==4.0.0-rc1) (1.3.1)\n",
            "Collecting chardet==3.* (from httpx==0.13.3->googletrans==4.0.0-rc1)\n",
            "  Downloading chardet-3.0.4-py2.py3-none-any.whl.metadata (3.2 kB)\n",
            "Collecting idna==2.* (from httpx==0.13.3->googletrans==4.0.0-rc1)\n",
            "  Downloading idna-2.10-py2.py3-none-any.whl.metadata (9.1 kB)\n",
            "Collecting rfc3986<2,>=1.3 (from httpx==0.13.3->googletrans==4.0.0-rc1)\n",
            "  Downloading rfc3986-1.5.0-py2.py3-none-any.whl.metadata (6.5 kB)\n",
            "Collecting httpcore==0.9.* (from httpx==0.13.3->googletrans==4.0.0-rc1)\n",
            "  Downloading httpcore-0.9.1-py3-none-any.whl.metadata (4.6 kB)\n",
            "Collecting h11<0.10,>=0.8 (from httpcore==0.9.*->httpx==0.13.3->googletrans==4.0.0-rc1)\n",
            "  Downloading h11-0.9.0-py2.py3-none-any.whl.metadata (8.1 kB)\n",
            "Collecting h2==3.* (from httpcore==0.9.*->httpx==0.13.3->googletrans==4.0.0-rc1)\n",
            "  Downloading h2-3.2.0-py2.py3-none-any.whl.metadata (32 kB)\n",
            "Collecting hyperframe<6,>=5.2.0 (from h2==3.*->httpcore==0.9.*->httpx==0.13.3->googletrans==4.0.0-rc1)\n",
            "  Downloading hyperframe-5.2.0-py2.py3-none-any.whl.metadata (7.2 kB)\n",
            "Collecting hpack<4,>=3.0 (from h2==3.*->httpcore==0.9.*->httpx==0.13.3->googletrans==4.0.0-rc1)\n",
            "  Downloading hpack-3.0.0-py2.py3-none-any.whl.metadata (7.0 kB)\n",
            "Downloading httpx-0.13.3-py3-none-any.whl (55 kB)\n",
            "\u001b[2K   \u001b[90m━━━━━━━━━━━━━━━━━━━━━━━━━━━━━━━━━━━━━━━━\u001b[0m \u001b[32m55.1/55.1 kB\u001b[0m \u001b[31m4.3 MB/s\u001b[0m eta \u001b[36m0:00:00\u001b[0m\n",
            "\u001b[?25hDownloading chardet-3.0.4-py2.py3-none-any.whl (133 kB)\n",
            "\u001b[2K   \u001b[90m━━━━━━━━━━━━━━━━━━━━━━━━━━━━━━━━━━━━━━━━\u001b[0m \u001b[32m133.4/133.4 kB\u001b[0m \u001b[31m6.3 MB/s\u001b[0m eta \u001b[36m0:00:00\u001b[0m\n",
            "\u001b[?25hDownloading httpcore-0.9.1-py3-none-any.whl (42 kB)\n",
            "\u001b[2K   \u001b[90m━━━━━━━━━━━━━━━━━━━━━━━━━━━━━━━━━━━━━━━━\u001b[0m \u001b[32m42.6/42.6 kB\u001b[0m \u001b[31m3.2 MB/s\u001b[0m eta \u001b[36m0:00:00\u001b[0m\n",
            "\u001b[?25hDownloading idna-2.10-py2.py3-none-any.whl (58 kB)\n",
            "\u001b[2K   \u001b[90m━━━━━━━━━━━━━━━━━━━━━━━━━━━━━━━━━━━━━━━━\u001b[0m \u001b[32m58.8/58.8 kB\u001b[0m \u001b[31m4.7 MB/s\u001b[0m eta \u001b[36m0:00:00\u001b[0m\n",
            "\u001b[?25hDownloading h2-3.2.0-py2.py3-none-any.whl (65 kB)\n",
            "\u001b[2K   \u001b[90m━━━━━━━━━━━━━━━━━━━━━━━━━━━━━━━━━━━━━━━━\u001b[0m \u001b[32m65.0/65.0 kB\u001b[0m \u001b[31m4.8 MB/s\u001b[0m eta \u001b[36m0:00:00\u001b[0m\n",
            "\u001b[?25hDownloading rfc3986-1.5.0-py2.py3-none-any.whl (31 kB)\n",
            "Downloading hstspreload-2024.9.1-py3-none-any.whl (1.2 MB)\n",
            "\u001b[2K   \u001b[90m━━━━━━━━━━━━━━━━━━━━━━━━━━━━━━━━━━━━━━━━\u001b[0m \u001b[32m1.2/1.2 MB\u001b[0m \u001b[31m25.9 MB/s\u001b[0m eta \u001b[36m0:00:00\u001b[0m\n",
            "\u001b[?25hDownloading h11-0.9.0-py2.py3-none-any.whl (53 kB)\n",
            "\u001b[2K   \u001b[90m━━━━━━━━━━━━━━━━━━━━━━━━━━━━━━━━━━━━━━━━\u001b[0m \u001b[32m53.6/53.6 kB\u001b[0m \u001b[31m3.7 MB/s\u001b[0m eta \u001b[36m0:00:00\u001b[0m\n",
            "\u001b[?25hDownloading hpack-3.0.0-py2.py3-none-any.whl (38 kB)\n",
            "Downloading hyperframe-5.2.0-py2.py3-none-any.whl (12 kB)\n",
            "Building wheels for collected packages: googletrans\n",
            "  Building wheel for googletrans (setup.py) ... \u001b[?25l\u001b[?25hdone\n",
            "  Created wheel for googletrans: filename=googletrans-4.0.0rc1-py3-none-any.whl size=17397 sha256=9d2c19577b9ef2bc59712a986c06f9f9d175e4fc0efc05de52cccbd518936421\n",
            "  Stored in directory: /root/.cache/pip/wheels/c0/59/9f/7372f0cf70160fe61b528532e1a7c8498c4becd6bcffb022de\n",
            "Successfully built googletrans\n",
            "Installing collected packages: rfc3986, hyperframe, hpack, h11, chardet, idna, hstspreload, h2, httpcore, httpx, googletrans\n",
            "  Attempting uninstall: chardet\n",
            "    Found existing installation: chardet 5.2.0\n",
            "    Uninstalling chardet-5.2.0:\n",
            "      Successfully uninstalled chardet-5.2.0\n",
            "  Attempting uninstall: idna\n",
            "    Found existing installation: idna 3.10\n",
            "    Uninstalling idna-3.10:\n",
            "      Successfully uninstalled idna-3.10\n",
            "Successfully installed chardet-3.0.4 googletrans-4.0.0rc1 h11-0.9.0 h2-3.2.0 hpack-3.0.0 hstspreload-2024.9.1 httpcore-0.9.1 httpx-0.13.3 hyperframe-5.2.0 idna-2.10 rfc3986-1.5.0\n"
          ]
        }
      ],
      "source": [
        "# This command installs a Python package directly from a GitHub repository.\n",
        "# It uses pip to install the Tagalog Stemmer package from the repository hosted at the given URL.\n",
        "!pip install git+https://github.com/andrianllmm/tagalog-stemmer.git@main\n",
        "!pip install langdetect\n",
        "!pip install googletrans==4.0.0-rc1\n"
      ]
    },
    {
      "cell_type": "code",
      "execution_count": null,
      "id": "8eccfa3a-1ee8-44be-ae35-b815869a5243",
      "metadata": {
        "colab": {
          "base_uri": "https://localhost:8080/"
        },
        "id": "8eccfa3a-1ee8-44be-ae35-b815869a5243",
        "outputId": "be3a2169-f75d-4087-d2ae-171e8d23db16"
      },
      "outputs": [
        {
          "name": "stderr",
          "output_type": "stream",
          "text": [
            "[nltk_data] Downloading package punkt to /root/nltk_data...\n",
            "[nltk_data]   Package punkt is already up-to-date!\n",
            "[nltk_data] Downloading package stopwords to /root/nltk_data...\n",
            "[nltk_data]   Package stopwords is already up-to-date!\n",
            "[nltk_data] Downloading package wordnet to /root/nltk_data...\n",
            "[nltk_data]   Package wordnet is already up-to-date!\n"
          ]
        }
      ],
      "source": [
        "# Importing necessary libraries\n",
        "import numpy as np  # For numerical operations\n",
        "import pandas as pd  # For data manipulation and analysis\n",
        "\n",
        "# Importing visualization libraries\n",
        "import matplotlib.pyplot as plt  # For plotting and data visualization\n",
        "from matplotlib import style  # For setting plot styles\n",
        "import seaborn as sns  # For advanced data visualization (heatmaps, categorical plots)\n",
        "\n",
        "# Importing Natural Language Toolkit (nltk) for NLP operations\n",
        "import nltk\n",
        "nltk.download('punkt')  # Downloading 'punkt' tokenizer for sentence and word tokenization\n",
        "\n",
        "# Importing functions from nltk for stopwords and tokenization\n",
        "from nltk.corpus import stopwords  # For using stopwords (commonly removed words like 'and', 'the')\n",
        "from nltk.tokenize import word_tokenize, sent_tokenize  # Functions for word and sentence tokenization\n",
        "\n",
        "# Importing stemmers (for reducing words to their root form)\n",
        "from nltk.stem import PorterStemmer, LancasterStemmer  # Porter and Lancaster stemming algorithms\n",
        "\n",
        "# Importing WordNet lemmatizer (for converting words to their base form using linguistic rules)\n",
        "from nltk.stem import WordNetLemmatizer\n",
        "\n",
        "# Importing Tagalog stemmer from the 'tglstemmer' package (assumed installed in earlier command)\n",
        "from tglstemmer import stemmer  # Tagalog language stemmer\n",
        "nltk.download('stopwords')\n",
        "# Importing vectorizers from scikit-learn for creating document-term matrices (DTM)\n",
        "from sklearn.feature_extraction.text import TfidfVectorizer, CountVectorizer  # TF-IDF and Count vectorization\n",
        "\n",
        "# Defining a set of stop words for use in text processing\n",
        "stop_words = set(nltk.corpus.stopwords.words('english'))  # Stop words in English\n",
        "\n",
        "# Downloading 'wordnet' corpus for lemmatization\n",
        "nltk.download('wordnet')\n",
        "#Downloading 'stopwords'\n",
        "\n",
        "# Importing regular expression library for text manipulation and pattern matching\n",
        "import re  # For regex operations such as cleaning text data\n",
        "\n",
        "from langdetect import detect\n",
        "\n",
        "from sklearn.linear_model import LogisticRegression\n",
        "from sklearn.model_selection import train_test_split\n",
        "from sklearn.metrics import accuracy_score\n",
        "from sklearn.metrics import classification_report\n"
      ]
    },
    {
      "cell_type": "code",
      "execution_count": null,
      "id": "ae2387a0-7d91-46dc-bcdc-4774fa9c5430",
      "metadata": {
        "colab": {
          "base_uri": "https://localhost:8080/"
        },
        "id": "ae2387a0-7d91-46dc-bcdc-4774fa9c5430",
        "outputId": "04d8c36d-2a9c-4781-a377-be1fd2b5b112"
      },
      "outputs": [
        {
          "data": {
            "text/plain": [
              "['ako',\n",
              " 'sa',\n",
              " 'akin',\n",
              " 'ko',\n",
              " 'aking',\n",
              " 'sarili',\n",
              " 'kami',\n",
              " 'atin',\n",
              " 'ang',\n",
              " 'aming',\n",
              " 'amin',\n",
              " 'ating',\n",
              " 'ka',\n",
              " 'iyong',\n",
              " 'iyo',\n",
              " 'inyong',\n",
              " 'siya',\n",
              " 'kanya',\n",
              " 'mismo',\n",
              " 'ito',\n",
              " 'nito',\n",
              " 'kanyang',\n",
              " 'sila',\n",
              " 'nila',\n",
              " 'kanila',\n",
              " 'kanilang',\n",
              " 'kung',\n",
              " 'ano',\n",
              " 'alin',\n",
              " 'sino',\n",
              " 'kanino',\n",
              " 'na',\n",
              " 'mga',\n",
              " 'iyon',\n",
              " 'am',\n",
              " 'ay',\n",
              " 'maging',\n",
              " 'naging',\n",
              " 'mayroon',\n",
              " 'may',\n",
              " 'nagkaroon',\n",
              " 'pagkakaroon',\n",
              " 'gumawa',\n",
              " 'ginagawa',\n",
              " 'ginawa',\n",
              " 'paggawa',\n",
              " 'ibig',\n",
              " 'dapat',\n",
              " 'maaari',\n",
              " 'marapat',\n",
              " 'kong',\n",
              " 'ikaw',\n",
              " 'tayo',\n",
              " 'hindi',\n",
              " 'namin',\n",
              " 'gusto',\n",
              " 'nais',\n",
              " 'niyang',\n",
              " 'nilang',\n",
              " 'niya',\n",
              " 'huwag',\n",
              " 'ginawang',\n",
              " 'gagawin',\n",
              " 'maaaring',\n",
              " 'sabihin',\n",
              " 'narito',\n",
              " 'kapag',\n",
              " 'ni',\n",
              " 'nasaan',\n",
              " 'bakit',\n",
              " 'paano',\n",
              " 'kailangan',\n",
              " 'walang',\n",
              " 'katiyakan',\n",
              " 'isang',\n",
              " 'at',\n",
              " 'pero',\n",
              " 'o',\n",
              " 'dahil',\n",
              " 'bilang',\n",
              " 'hanggang',\n",
              " 'habang',\n",
              " 'ng',\n",
              " 'pamamagitan',\n",
              " 'para',\n",
              " 'tungkol',\n",
              " 'laban',\n",
              " 'pagitan',\n",
              " 'panahon',\n",
              " 'bago',\n",
              " 'pagkatapos',\n",
              " 'itaas',\n",
              " 'ibaba',\n",
              " 'mula',\n",
              " 'pataas',\n",
              " 'pababa',\n",
              " 'palabas',\n",
              " 'ibabaw',\n",
              " 'ilalim',\n",
              " 'muli',\n",
              " 'pa',\n",
              " 'minsan',\n",
              " 'dito',\n",
              " 'doon',\n",
              " 'saan',\n",
              " 'lahat',\n",
              " 'anumang',\n",
              " 'kapwa',\n",
              " 'bawat',\n",
              " 'ilan',\n",
              " 'karamihan',\n",
              " 'iba',\n",
              " 'tulad',\n",
              " 'lamang',\n",
              " 'pareho',\n",
              " 'kaya',\n",
              " 'kaysa',\n",
              " 'masyado',\n",
              " 'napaka',\n",
              " 'isa',\n",
              " 'bababa',\n",
              " 'kulang',\n",
              " 'marami',\n",
              " 'ngayon',\n",
              " 'kailanman',\n",
              " 'sabi',\n",
              " 'nabanggit',\n",
              " 'din',\n",
              " 'kumuha',\n",
              " 'pumunta',\n",
              " 'pumupunta',\n",
              " 'ilagay',\n",
              " 'makita',\n",
              " 'nakita',\n",
              " 'katulad',\n",
              " 'mahusay',\n",
              " 'likod',\n",
              " 'kahit',\n",
              " 'paraan',\n",
              " 'noon',\n",
              " 'gayunman',\n",
              " 'dalawa',\n",
              " 'tatlo',\n",
              " 'apat',\n",
              " 'lima',\n",
              " 'una',\n",
              " 'pangalawa',\n",
              " 'yung',\n",
              " 'mo',\n",
              " 'lang',\n",
              " 'mag',\n",
              " 'ba',\n",
              " 'pag',\n",
              " 'yan',\n",
              " 'nga',\n",
              " 'rin',\n",
              " 'kasi',\n",
              " 'po',\n",
              " 'ung']"
            ]
          },
          "execution_count": 8,
          "metadata": {},
          "output_type": "execute_result"
        }
      ],
      "source": [
        "# Reading Tagalog stopwords from a text file\n",
        "# 'tagalog_stop_words.txt' is assumed to be a file containing a list of stopwords in Tagalog.\n",
        "# The file is read as a DataFrame using pandas.\n",
        "tagalog_stopwords = pd.read_csv(\"tagalog_stop_words.txt\")\n",
        "\n",
        "# Extracting the 'stopwords' column from the DataFrame and converting it to a Python list\n",
        "# Assuming the file has a column named 'stopwords' that contains the actual stop words.\n",
        "tagalog_stopwords = tagalog_stopwords['stopwords'].tolist()\n",
        "\n",
        "# Output the list of Tagalog stopwords\n",
        "tagalog_stopwords\n"
      ]
    },
    {
      "cell_type": "code",
      "execution_count": null,
      "id": "77c0dde0-45f6-407a-a621-43d7ef9754f4",
      "metadata": {
        "id": "77c0dde0-45f6-407a-a621-43d7ef9754f4"
      },
      "outputs": [],
      "source": [
        "# Combining English and Tagalog stopwords into a single list\n",
        "# The stopwords from nltk (in English) are combined with the Tagalog stopwords previously loaded from a file.\n",
        "# This allows you to remove both English and Tagalog stopwords from text in one step.\n",
        "all_stopwords = stopwords.words('english') + tagalog_stopwords\n",
        "\n",
        "# The resulting 'all_stopwords' will contain stopwords from both languages.\n"
      ]
    },
    {
      "cell_type": "code",
      "execution_count": null,
      "id": "945001ee-4e20-49b2-b03d-16b52b76ff78",
      "metadata": {
        "id": "945001ee-4e20-49b2-b03d-16b52b76ff78"
      },
      "outputs": [],
      "source": [
        "# Reading the English dataset from a CSV file\n",
        "# 'AI in edu dataset - Sheet1.csv' is assumed to contain text data in English.\n",
        "# The dataset is loaded as a pandas DataFrame.\n",
        "dataset = pd.read_csv('AI in edu dataset - Sheet1.csv')\n",
        "\n",
        "# Converting all data in the dataset to string type\n",
        "# Ensures that all values in the DataFrame are treated as text, regardless of their original format.\n",
        "dataset = dataset.astype(str)"
      ]
    },
    {
      "cell_type": "code",
      "execution_count": null,
      "id": "0bc1c22d-5fb9-4735-9597-6f8c73f31c82",
      "metadata": {
        "id": "0bc1c22d-5fb9-4735-9597-6f8c73f31c82"
      },
      "outputs": [],
      "source": [
        "def clean_text(text):\n",
        "\n",
        "    #Determine the language of the sentence\n",
        "    lang = detect(text)\n",
        "\n",
        "\n",
        "    # Remove any character that is not a letter or whitespace using regex\n",
        "    # This step removes punctuation, numbers, and special characters, leaving only letters and spaces.\n",
        "    text = re.sub(r'[^a-zA-Z\\s]', '', text)\n",
        "\n",
        "    # Initialize the WordNet Lemmatizer (for reducing words to their base form)\n",
        "    le = WordNetLemmatizer()\n",
        "\n",
        "    # Tokenize the text into individual words\n",
        "    word_tokens = word_tokenize(text)\n",
        "\n",
        "    # Lemmatize each word token and remove stopwords (words in 'all_stopwords') and tokens shorter than 3 characters\n",
        "    tokens = [le.lemmatize(w) for w in word_tokens if w not in all_stopwords and len(w) > 3]\n",
        "\n",
        "    # Stemming based on language\n",
        "    if lang == 'en':\n",
        "        # For other languages (assumed to be English), use the PorterStemmer for stemming\n",
        "        ps = PorterStemmer()\n",
        "        stemmed_tokens = [ps.stem(token) for token in tokens]\n",
        "\n",
        "    else:\n",
        "        # If the language is English, use the Tagalog stemmer ('stemmer' assumed to be the English stemmer)\n",
        "        stemmed_tokens = [stemmer.get_stem(token) for token in tokens]\n",
        "\n",
        "    # Join the processed tokens back into a single string\n",
        "    cleaned_text = \" \".join(stemmed_tokens)\n",
        "\n",
        "    # Return the cleaned and processed text\n",
        "    return cleaned_text\n"
      ]
    },
    {
      "cell_type": "code",
      "execution_count": null,
      "id": "18ce907d-f135-4e85-8ae2-d928ac1b22a1",
      "metadata": {
        "id": "18ce907d-f135-4e85-8ae2-d928ac1b22a1"
      },
      "outputs": [],
      "source": [
        "# Applying the 'clean_text' function to the 'Content' column of the dataset\n",
        "# For each row in the 'Content' column, it calls the 'clean_text' function, specifying \"english\" as the language.\n",
        "dataset['Content'] = dataset['Content'].apply(lambda x: clean_text(x))\n"
      ]
    },
    {
      "cell_type": "code",
      "execution_count": null,
      "id": "904d2caa-8e07-4529-ad3e-691f838f4ddc",
      "metadata": {
        "id": "904d2caa-8e07-4529-ad3e-691f838f4ddc"
      },
      "outputs": [],
      "source": [
        "# Initializing the TfidfVectorizer\n",
        "# This vectorizer converts the text into a matrix of TF-IDF features.\n",
        "# 'stop_words=all_stopwords' specifies that the TF-IDF vectorizer should ignore both English and Tagalog stopwords.\n",
        "# 'max_features=1000' limits the number of features (terms) to 1000, keeping only the most important ones based on TF-IDF scores.\n",
        "vect = TfidfVectorizer(stop_words=all_stopwords, max_features=1000)\n",
        "\n",
        "# Applying the vectorizer to the 'Content' column of the English dataset\n",
        "# The fit_transform method learns the vocabulary and creates the document-term matrix (DTM) based on TF-IDF scores.\n",
        "vect_text = vect.fit_transform(dataset['Content'])\n"
      ]
    },
    {
      "cell_type": "code",
      "execution_count": null,
      "id": "c6f5df66-95f2-4f07-915c-b8f070c4cd9f",
      "metadata": {
        "colab": {
          "base_uri": "https://localhost:8080/"
        },
        "id": "c6f5df66-95f2-4f07-915c-b8f070c4cd9f",
        "outputId": "31ec8aed-6d41-41bd-a25d-07618a8c1c9f"
      },
      "outputs": [
        {
          "name": "stdout",
          "output_type": "stream",
          "text": [
            "(452, 1000)\n",
            "  (0, 988)\t0.3661512276219711\n",
            "  (0, 139)\t0.3872600401067019\n",
            "  (0, 13)\t0.3661512276219711\n",
            "  (0, 223)\t0.405213305927521\n",
            "  (0, 875)\t0.6146936993672553\n",
            "  (0, 242)\t0.19962477555626815\n",
            "  (1, 933)\t0.3311073047776221\n",
            "  (1, 849)\t0.29876770907218103\n",
            "  (1, 101)\t0.34773214295296606\n",
            "  (1, 379)\t0.47056016827290614\n",
            "  (1, 777)\t0.28424451801723805\n",
            "  (1, 348)\t0.2781558469090454\n",
            "  (1, 720)\t0.29876770907218103\n",
            "  (1, 539)\t0.3799333823310503\n",
            "  (1, 369)\t0.186315650255668\n",
            "  (1, 927)\t0.1796402844979032\n",
            "  (2, 109)\t0.361741833465506\n",
            "  (2, 860)\t0.15834519020375185\n",
            "  (2, 253)\t0.40497041595597705\n",
            "  (2, 787)\t0.40497041595597705\n",
            "  (2, 248)\t0.39156163530769367\n",
            "  (2, 153)\t0.39156163530769367\n",
            "  (2, 891)\t0.41967716659623233\n",
            "  (2, 242)\t0.18247635027401554\n",
            "  (3, 607)\t0.48036692722516855\n",
            "  :\t:\n",
            "  (446, 55)\t0.4883229457565258\n",
            "  (446, 649)\t0.5684266119582732\n",
            "  (447, 306)\t0.541769651448546\n",
            "  (447, 212)\t0.4641948178479465\n",
            "  (447, 863)\t0.47357220679812106\n",
            "  (447, 458)\t0.2573914219662607\n",
            "  (447, 13)\t0.4477586813217323\n",
            "  (448, 945)\t0.5025878100370588\n",
            "  (448, 449)\t0.5025878100370588\n",
            "  (448, 55)\t0.3706534237047834\n",
            "  (448, 170)\t0.41385238606118546\n",
            "  (448, 864)\t0.43145478146810734\n",
            "  (449, 760)\t0.5380434207411744\n",
            "  (449, 69)\t0.5040769724969308\n",
            "  (449, 821)\t0.47997739394053524\n",
            "  (449, 672)\t0.42191136713989613\n",
            "  (449, 458)\t0.21915333166452258\n",
            "  (450, 972)\t0.4528111548666743\n",
            "  (450, 462)\t0.43116256031995936\n",
            "  (450, 338)\t0.43116256031995936\n",
            "  (450, 10)\t0.43116256031995936\n",
            "  (450, 860)\t0.16202070524126272\n",
            "  (450, 369)\t0.24261721693474753\n",
            "  (450, 988)\t0.34246664712384983\n",
            "  (450, 242)\t0.1867119987869841\n"
          ]
        }
      ],
      "source": [
        "# Printing the shape of the TF-IDF matrix\n",
        "# This will show the dimensions of the matrix, where the first number is the number of documents and the second number is the number of features (terms).\n",
        "print(vect_text.shape)\n",
        "\n",
        "# Printing the TF-IDF matrix\n",
        "# This will display the sparse matrix representation of the TF-IDF features.\n",
        "# Each row corresponds to a document, and each column corresponds to a term, with values representing the TF-IDF scores.\n",
        "print(vect_text)\n"
      ]
    },
    {
      "cell_type": "code",
      "execution_count": null,
      "id": "732c7b18-a210-487f-ae54-6f13a6092481",
      "metadata": {
        "id": "732c7b18-a210-487f-ae54-6f13a6092481"
      },
      "outputs": [],
      "source": [
        "# Extracting the IDF (Inverse Document Frequency) values from the fitted TF-IDF vectorizer\n",
        "# 'idf_' is an attribute of the TfidfVectorizer object that contains the IDF values for each term in the vocabulary.\n",
        "idf = vect.idf_\n",
        "\n",
        "# Creating a dictionary that maps each term to its IDF score\n",
        "# 'vect.get_feature_names_out()' provides the list of feature names (terms).\n",
        "# 'idf' contains the IDF scores corresponding to these terms.\n",
        "dd = dict(zip(vect.get_feature_names_out(), idf))\n",
        "\n",
        "# Sorting the dictionary by IDF scores in ascending order\n",
        "# This gives the terms with the lowest IDF scores (i.e., most common across documents) first.\n",
        "l = sorted(dd, key=dd.get)"
      ]
    },
    {
      "cell_type": "code",
      "execution_count": null,
      "id": "4d240c59-61d8-4548-83dc-1c4675cd0cbe",
      "metadata": {
        "id": "4d240c59-61d8-4548-83dc-1c4675cd0cbe"
      },
      "outputs": [],
      "source": [
        "# Importing the TruncatedSVD class from scikit-learn\n",
        "# TruncatedSVD is used for dimensionality reduction, particularly for reducing the dimensions of TF-IDF matrices in topic modeling.\n",
        "from sklearn.decomposition import TruncatedSVD\n",
        "\n",
        "# Initializing the TruncatedSVD model\n",
        "# 'n_components=10' specifies that the dimensionality of the data will be reduced to 10 components (topics).\n",
        "# 'algorithm='randomized'' indicates the use of randomized SVD, which is more efficient for large datasets.\n",
        "# 'n_iter=10' specifies the number of iterations for the randomized algorithm.\n",
        "# 'random_state=42' ensures reproducibility by setting the seed for the random number generator.\n",
        "lsa_model = TruncatedSVD(n_components=10, algorithm='randomized', n_iter=10, random_state=100)\n",
        "\n",
        "# Applying the TruncatedSVD model to the TF-IDF matrix to reduce its dimensionality\n",
        "# 'lsa_top' will contain the transformed data with reduced dimensions (10 components).\n",
        "lsa_top = lsa_model.fit_transform(vect_text)\n"
      ]
    },
    {
      "cell_type": "code",
      "execution_count": null,
      "id": "f0cfb906-d8b7-4fe5-89da-388aeb7f4a2c",
      "metadata": {
        "colab": {
          "base_uri": "https://localhost:8080/"
        },
        "id": "f0cfb906-d8b7-4fe5-89da-388aeb7f4a2c",
        "outputId": "89288d46-470a-49c0-e40a-68c6c0775172"
      },
      "outputs": [
        {
          "name": "stdout",
          "output_type": "stream",
          "text": [
            "[[ 0.16641704 -0.03896213  0.34447752 ...  0.01896209 -0.01678566\n",
            "   0.02705619]\n",
            " [ 0.19266245 -0.01220771  0.00659847 ... -0.00641824  0.14529952\n",
            "   0.0567431 ]\n",
            " [ 0.26655515  0.13045884  0.08631572 ...  0.06591135 -0.07353376\n",
            "  -0.03213371]\n",
            " ...\n",
            " [ 0.09802933 -0.041261   -0.07608876 ... -0.10411753  0.00992074\n",
            "  -0.09540792]\n",
            " [ 0.21250829 -0.057944    0.00601371 ... -0.00312432 -0.00905183\n",
            "   0.10760025]\n",
            " [ 0.          0.          0.         ...  0.          0.\n",
            "   0.        ]]\n",
            "(452, 10)\n"
          ]
        }
      ],
      "source": [
        "# Printing the transformed data obtained from applying TruncatedSVD\n",
        "# 'lsa_top' contains the data projected onto the reduced-dimensional space (10 components).\n",
        "print(lsa_top)\n",
        "\n",
        "# Printing the shape of the transformed data\n",
        "# This will show the dimensions of the reduced data, where the first number is the number of documents\n",
        "# and the second number is the number of components (10 in this case).\n",
        "print(lsa_top.shape)\n"
      ]
    },
    {
      "cell_type": "code",
      "execution_count": null,
      "id": "6d90694c-3035-4d1e-b1fc-e8e2fb64f102",
      "metadata": {
        "colab": {
          "base_uri": "https://localhost:8080/"
        },
        "id": "6d90694c-3035-4d1e-b1fc-e8e2fb64f102",
        "outputId": "756b503a-8f9b-4874-b583-6a6eb5d1fec2"
      },
      "outputs": [
        {
          "name": "stdout",
          "output_type": "stream",
          "text": [
            "Topic  0  :  16.641704495609964\n",
            "Topic  1  :  -3.8962129512032595\n",
            "Topic  2  :  34.44775230477068\n",
            "Topic  3  :  14.381069059261481\n",
            "Topic  4  :  2.576324968102788\n",
            "Topic  5  :  -8.278246177961398\n",
            "Topic  6  :  -6.299684838522913\n",
            "Topic  7  :  1.8962087888286807\n",
            "Topic  8  :  -1.6785658389997304\n",
            "Topic  9  :  2.7056187586321294\n"
          ]
        }
      ],
      "source": [
        "# Extracting the representation of the first document in the reduced-dimensional space\n",
        "# 'lsa_top[0]' gets the vector of the first document across the 10 components (topics).\n",
        "l = lsa_top[0]\n",
        "\n",
        "# Iterating over each topic and its score for the first document\n",
        "# 'enumerate(l)' provides both the index (i.e., topic number) and the score for each topic.\n",
        "for i, topic in enumerate(l):\n",
        "    # Printing the topic number and its score multiplied by 100 for better readability\n",
        "    print(\"Topic \", i, \" : \", topic * 100)\n"
      ]
    },
    {
      "cell_type": "code",
      "execution_count": null,
      "id": "8e4a9050-5445-4979-8e2a-e656496badf1",
      "metadata": {
        "colab": {
          "base_uri": "https://localhost:8080/"
        },
        "id": "8e4a9050-5445-4979-8e2a-e656496badf1",
        "outputId": "595c0a68-bd87-48e8-d89f-6fc92273f0d8"
      },
      "outputs": [
        {
          "name": "stdout",
          "output_type": "stream",
          "text": [
            "(10, 1000)\n",
            "[[ 0.02650253  0.01542948  0.00247789 ...  0.01670036  0.002947\n",
            "   0.002064  ]\n",
            " [-0.00588689 -0.00486634  0.01551591 ...  0.00900716  0.00059951\n",
            "   0.00045666]\n",
            " [ 0.00967039  0.00033556 -0.00138877 ...  0.03171788  0.00176783\n",
            "   0.00328645]\n",
            " ...\n",
            " [ 0.01135764  0.01756077  0.00248393 ... -0.01667807 -0.01546344\n",
            "  -0.00392538]\n",
            " [ 0.01233579  0.00696552 -0.00518001 ... -0.00168141 -0.00291981\n",
            "   0.0019874 ]\n",
            " [ 0.00726726  0.01445285  0.00138345 ... -0.03367793  0.01240584\n",
            "  -0.00103268]]\n"
          ]
        }
      ],
      "source": [
        "# Printing the shape of the components matrix from the TruncatedSVD model\n",
        "# 'lsa_model.components_' contains the matrix of the topic-term distributions.\n",
        "# The shape will be (n_components, n_features), where:\n",
        "# - n_components is the number of topics (10 in this case)\n",
        "# - n_features is the number of terms (features) in the TF-IDF matrix (e.g., 1000 if 'max_features=1000')\n",
        "print(lsa_model.components_.shape)\n",
        "\n",
        "# Printing the components matrix\n",
        "# 'lsa_model.components_' is a matrix where each row represents a topic\n",
        "# and each column represents the importance of a term in that topic.\n",
        "print(lsa_model.components_)\n"
      ]
    },
    {
      "cell_type": "code",
      "execution_count": null,
      "id": "6e66f358-9055-489c-b297-8fc1cfd75690",
      "metadata": {
        "colab": {
          "base_uri": "https://localhost:8080/"
        },
        "id": "6e66f358-9055-489c-b297-8fc1cfd75690",
        "outputId": "20fb45bf-0fa9-4053-c998-fc4318cde79b",
        "scrolled": true
      },
      "outputs": [
        {
          "name": "stdout",
          "output_type": "stream",
          "text": [
            "Topic 0: \n",
            "student learn educ teacher help person need tool use provid \n",
            "\n",
            "Topic 1: \n",
            "gamit teacher tulong estudyante pwedeng pwede man baka aral talaga \n",
            "\n",
            "Topic 2: \n",
            "educ system technolog school teach task chang philippin qualiti access \n",
            "\n",
            "Topic 3: \n",
            "tulong estudyante educ learn aral system lesson bilis intindi person \n",
            "\n",
            "Topic 4: \n",
            "chatgpt think work use cheat tool skill school critic depend \n",
            "\n",
            "Topic 5: \n",
            "tulong estudyante lesson think pwedeng task teacher creativ critic intindi \n",
            "\n",
            "Topic 6: \n",
            "think critic creativ lack skill learn lead gamit develop human \n",
            "\n",
            "Topic 7: \n",
            "student access education tool technolog critic think lack pilipinas lead \n",
            "\n",
            "Topic 8: \n",
            "pwedeng school public need pilipinas work task depende subok technolog \n",
            "\n",
            "Topic 9: \n",
            "education help grade improv ilang autom task tutor focu philippin \n",
            "\n"
          ]
        }
      ],
      "source": [
        "# Getting the feature names (terms) from the TF-IDF vectorizer\n",
        "# 'vocab' will be a list of all terms (features) used in the TF-IDF matrix.\n",
        "vocab = vect.get_feature_names_out()\n",
        "\n",
        "# Iterating over each topic (component) in the LSA model\n",
        "for i, comp in enumerate(lsa_model.components_):\n",
        "    # Pairing each term with its weight for the current topic\n",
        "    vocab_comp = zip(vocab, comp)\n",
        "\n",
        "    # Sorting terms by their weight for the current topic in descending order\n",
        "    # 'sorted_words' contains the top 10 terms with the highest weights for the topic.\n",
        "    sorted_words = sorted(vocab_comp, key=lambda x: x[1], reverse=True)[:10]\n",
        "\n",
        "    # Printing the most important words for the current topic\n",
        "    print(\"Topic \" + str(i) + \": \")\n",
        "    for t in sorted_words:\n",
        "        print(t[0], end=\" \")  # Printing term names\n",
        "    print(\"\\n\")  # Newline for readability"
      ]
    },
    {
      "cell_type": "code",
      "execution_count": null,
      "id": "8509b954-0cf9-4dba-8506-9ba902ada06c",
      "metadata": {
        "colab": {
          "base_uri": "https://localhost:8080/",
          "height": 350
        },
        "id": "8509b954-0cf9-4dba-8506-9ba902ada06c",
        "outputId": "fb9fe817-e915-434b-8fc0-6296c14d59df"
      },
      "outputs": [
        {
          "data": {
            "image/png": "[encoded data removed]",
            "text/plain": [
              "<Figure size 500x500 with 1 Axes>"
            ]
          },
          "metadata": {},
          "output_type": "display_data"
        }
      ],
      "source": [
        "from wordcloud import WordCloud  # Importing WordCloud for visualizing term importance\n",
        "\n",
        "# Function to generate and display a word cloud for a given topic\n",
        "def draw_word_cloud(index):\n",
        "    # Initialize an empty string to hold the important words for the topic\n",
        "    imp_words_topic = \"\"\n",
        "\n",
        "    # Retrieve the component (topic-term distribution) for the given index (topic)\n",
        "    comp = lsa_model.components_[index]\n",
        "\n",
        "    # Pair each term with its weight for the topic\n",
        "    vocab_comp = zip(vocab, comp)\n",
        "\n",
        "    # Sort terms by their weight in descending order and select the top 50 terms\n",
        "    sorted_words = sorted(vocab_comp, key=lambda x: x[1], reverse=True)[:50]\n",
        "\n",
        "    # Concatenate the top 50 terms into a single string, separated by spaces\n",
        "    for word in sorted_words:\n",
        "        imp_words_topic += \" \" + word[0]\n",
        "\n",
        "    # Generate a word cloud image from the concatenated terms\n",
        "    wordcloud = WordCloud(width=600, height=400).generate(imp_words_topic)\n",
        "\n",
        "    # Plot the word cloud\n",
        "    plt.figure(figsize=(5, 5))\n",
        "    plt.imshow(wordcloud, interpolation='bilinear')  # Display the word cloud\n",
        "    plt.axis(\"off\")  # Hide the axis\n",
        "    plt.tight_layout()  # Adjust layout to fit elements\n",
        "    plt.show()  # Display the plot\n",
        "\n",
        "# Generate and display the word cloud for Topic 0\n",
        "draw_word_cloud(0)\n"
      ]
    },
    {
      "cell_type": "code",
      "execution_count": null,
      "id": "c915f76d-d4be-4bd5-8f69-db920d83173d",
      "metadata": {
        "id": "c915f76d-d4be-4bd5-8f69-db920d83173d"
      },
      "outputs": [],
      "source": [
        "# Getting the feature names (terms) from the TF-IDF vectorizer\n",
        "terms = vect.get_feature_names_out()\n",
        "\n",
        "# Initializing a list to store the most important terms for each topic\n",
        "topics = []\n",
        "\n",
        "# Iterating over each topic (component) in the LSA model\n",
        "for topic_idx, topic in enumerate(lsa_model.components_):\n",
        "    # Sorting the terms based on their importance (weight) for the current topic\n",
        "    # 'topic.argsort()' returns indices that would sort the topic weights array\n",
        "    # '[:-11:-1]' selects the top 10 terms with the highest weights\n",
        "    # 'topics' will contain lists of the most important terms for each topic\n",
        "    topics.append([terms[i] for i in topic.argsort()[:-11:-1]])\n",
        "\n",
        "# 'topics' now contains lists of the top 10 terms for each topic\n"
      ]
    },
    {
      "cell_type": "code",
      "execution_count": null,
      "id": "506c2303-5514-4cda-b1fb-6c01fde58cba",
      "metadata": {
        "colab": {
          "base_uri": "https://localhost:8080/"
        },
        "id": "506c2303-5514-4cda-b1fb-6c01fde58cba",
        "outputId": "25e4160a-0a73-4496-d5d6-2e8994b3212d"
      },
      "outputs": [
        {
          "name": "stdout",
          "output_type": "stream",
          "text": [
            "Coherence Score:  0.41398303757516225\n"
          ]
        }
      ],
      "source": [
        "from gensim.models.coherencemodel import CoherenceModel\n",
        "from gensim.corpora.dictionary import Dictionary\n",
        "\n",
        "# Preprocessing the documents from the Taglish dataset\n",
        "# Splitting each document into a list of words\n",
        "processed_docs = [doc.split() for doc in dataset['Content']]\n",
        "\n",
        "# Creating a dictionary from the processed documents\n",
        "# This dictionary maps each word to a unique id, which is used in coherence calculation\n",
        "dictionary = Dictionary(processed_docs)\n",
        "\n",
        "# Initializing the CoherenceModel with the following parameters:\n",
        "# - topics: the list of topics where each topic is a list of top terms\n",
        "# - texts: the preprocessed documents used for coherence calculation\n",
        "# - dictionary: the dictionary mapping terms to IDs\n",
        "# - coherence: the coherence measure to use, 'c_v' in this case\n",
        "coherence_model_lsa = CoherenceModel(topics=topics, texts=processed_docs, dictionary=dictionary, coherence='c_v')\n",
        "\n",
        "# Calculating the coherence score for the topics\n",
        "# The coherence score measures how coherent the topics are, with higher values indicating better coherence\n",
        "coherence_lsa = coherence_model_lsa.get_coherence()\n",
        "\n",
        "# Output the coherence score\n",
        "print(\"Coherence Score: \", coherence_lsa)\n"
      ]
    },
    {
      "cell_type": "code",
      "execution_count": null,
      "id": "J1bRyqgfZ17a",
      "metadata": {
        "id": "J1bRyqgfZ17a"
      },
      "outputs": [],
      "source": [
        "##Cosine Similarity\n",
        "cosine_sim = cosine_similarity(lsa_top)\n",
        "print(f'Cosine Similarity : {cosine_sim.mean()}')"
      ]
    }
  ],
  "metadata": {
    "colab": {
      "provenance": []
    },
    "kernelspec": {
      "display_name": "Python 3 (ipykernel)",
      "language": "python",
      "name": "python3"
    },
    "language_info": {
      "codemirror_mode": {
        "name": "ipython",
        "version": 3
      },
      "file_extension": ".py",
      "mimetype": "text/x-python",
      "name": "python",
      "nbconvert_exporter": "python",
      "pygments_lexer": "ipython3",
      "version": "3.11.7"
    }
  },
  "nbformat": 4,
  "nbformat_minor": 5
}

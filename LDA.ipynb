{
  "nbformat": 4,
  "nbformat_minor": 0,
  "metadata": {
    "colab": {
      "provenance": []
    },
    "kernelspec": {
      "name": "python3",
      "display_name": "Python 3"
    },
    "language_info": {
      "name": "python"
    }
  },
  "cells": [
    {
      "cell_type": "markdown",
      "source": [
        "# **WIP**\n",
        "\n",
        "3 Topics: (Undecided)\n",
        "  1. Impact of AI on teaching and learning\n",
        "  2. Ethical concerns about AI in education\n",
        "  3. Implementation of AI in education tools"
      ],
      "metadata": {
        "id": "YihoNnklY1LK"
      }
    },
    {
      "cell_type": "markdown",
      "source": [
        "## **Download required libraries**"
      ],
      "metadata": {
        "id": "5LdFsmsp0Tne"
      }
    },
    {
      "cell_type": "code",
      "source": [
        "!pip install gensim\n",
        "!pip install pyLDAvis\n",
        "!pip install bertopic"
      ],
      "metadata": {
        "colab": {
          "base_uri": "https://localhost:8080/"
        },
        "id": "1EkJ71Ezz1cK",
        "outputId": "c3344f6a-1763-4150-9eae-dadad9058486"
      },
      "execution_count": null,
      "outputs": [
        {
          "output_type": "stream",
          "name": "stdout",
          "text": [
            "Requirement already satisfied: gensim in /usr/local/lib/python3.10/dist-packages (4.3.3)\n",
            "Requirement already satisfied: numpy<2.0,>=1.18.5 in /usr/local/lib/python3.10/dist-packages (from gensim) (1.26.4)\n",
            "Requirement already satisfied: scipy<1.14.0,>=1.7.0 in /usr/local/lib/python3.10/dist-packages (from gensim) (1.13.1)\n",
            "Requirement already satisfied: smart-open>=1.8.1 in /usr/local/lib/python3.10/dist-packages (from gensim) (7.0.4)\n",
            "Requirement already satisfied: wrapt in /usr/local/lib/python3.10/dist-packages (from smart-open>=1.8.1->gensim) (1.16.0)\n",
            "Collecting pyLDAvis\n",
            "  Downloading pyLDAvis-3.4.1-py3-none-any.whl.metadata (4.2 kB)\n",
            "Requirement already satisfied: numpy>=1.24.2 in /usr/local/lib/python3.10/dist-packages (from pyLDAvis) (1.26.4)\n",
            "Requirement already satisfied: scipy in /usr/local/lib/python3.10/dist-packages (from pyLDAvis) (1.13.1)\n",
            "Requirement already satisfied: pandas>=2.0.0 in /usr/local/lib/python3.10/dist-packages (from pyLDAvis) (2.1.4)\n",
            "Requirement already satisfied: joblib>=1.2.0 in /usr/local/lib/python3.10/dist-packages (from pyLDAvis) (1.4.2)\n",
            "Requirement already satisfied: jinja2 in /usr/local/lib/python3.10/dist-packages (from pyLDAvis) (3.1.4)\n",
            "Requirement already satisfied: numexpr in /usr/local/lib/python3.10/dist-packages (from pyLDAvis) (2.10.1)\n",
            "Collecting funcy (from pyLDAvis)\n",
            "  Downloading funcy-2.0-py2.py3-none-any.whl.metadata (5.9 kB)\n",
            "Requirement already satisfied: scikit-learn>=1.0.0 in /usr/local/lib/python3.10/dist-packages (from pyLDAvis) (1.3.2)\n",
            "Requirement already satisfied: gensim in /usr/local/lib/python3.10/dist-packages (from pyLDAvis) (4.3.3)\n",
            "Requirement already satisfied: setuptools in /usr/local/lib/python3.10/dist-packages (from pyLDAvis) (71.0.4)\n",
            "Requirement already satisfied: python-dateutil>=2.8.2 in /usr/local/lib/python3.10/dist-packages (from pandas>=2.0.0->pyLDAvis) (2.8.2)\n",
            "Requirement already satisfied: pytz>=2020.1 in /usr/local/lib/python3.10/dist-packages (from pandas>=2.0.0->pyLDAvis) (2024.1)\n",
            "Requirement already satisfied: tzdata>=2022.1 in /usr/local/lib/python3.10/dist-packages (from pandas>=2.0.0->pyLDAvis) (2024.1)\n",
            "Requirement already satisfied: threadpoolctl>=2.0.0 in /usr/local/lib/python3.10/dist-packages (from scikit-learn>=1.0.0->pyLDAvis) (3.5.0)\n",
            "Requirement already satisfied: smart-open>=1.8.1 in /usr/local/lib/python3.10/dist-packages (from gensim->pyLDAvis) (7.0.4)\n",
            "Requirement already satisfied: MarkupSafe>=2.0 in /usr/local/lib/python3.10/dist-packages (from jinja2->pyLDAvis) (2.1.5)\n",
            "Requirement already satisfied: six>=1.5 in /usr/local/lib/python3.10/dist-packages (from python-dateutil>=2.8.2->pandas>=2.0.0->pyLDAvis) (1.16.0)\n",
            "Requirement already satisfied: wrapt in /usr/local/lib/python3.10/dist-packages (from smart-open>=1.8.1->gensim->pyLDAvis) (1.16.0)\n",
            "Downloading pyLDAvis-3.4.1-py3-none-any.whl (2.6 MB)\n",
            "\u001b[2K   \u001b[90m━━━━━━━━━━━━━━━━━━━━━━━━━━━━━━━━━━━━━━━━\u001b[0m \u001b[32m2.6/2.6 MB\u001b[0m \u001b[31m16.8 MB/s\u001b[0m eta \u001b[36m0:00:00\u001b[0m\n",
            "\u001b[?25hDownloading funcy-2.0-py2.py3-none-any.whl (30 kB)\n",
            "Installing collected packages: funcy, pyLDAvis\n",
            "Successfully installed funcy-2.0 pyLDAvis-3.4.1\n",
            "Collecting bertopic\n",
            "  Downloading bertopic-0.16.3-py3-none-any.whl.metadata (23 kB)\n",
            "Collecting hdbscan>=0.8.29 (from bertopic)\n",
            "  Downloading hdbscan-0.8.38.post1-cp310-cp310-manylinux_2_17_x86_64.manylinux2014_x86_64.whl.metadata (15 kB)\n",
            "Requirement already satisfied: numpy>=1.20.0 in /usr/local/lib/python3.10/dist-packages (from bertopic) (1.26.4)\n",
            "Requirement already satisfied: pandas>=1.1.5 in /usr/local/lib/python3.10/dist-packages (from bertopic) (2.1.4)\n",
            "Requirement already satisfied: plotly>=4.7.0 in /usr/local/lib/python3.10/dist-packages (from bertopic) (5.15.0)\n",
            "Requirement already satisfied: scikit-learn>=0.22.2.post1 in /usr/local/lib/python3.10/dist-packages (from bertopic) (1.3.2)\n",
            "Collecting sentence-transformers>=0.4.1 (from bertopic)\n",
            "  Downloading sentence_transformers-3.0.1-py3-none-any.whl.metadata (10 kB)\n",
            "Requirement already satisfied: tqdm>=4.41.1 in /usr/local/lib/python3.10/dist-packages (from bertopic) (4.66.5)\n",
            "Collecting umap-learn>=0.5.0 (from bertopic)\n",
            "  Downloading umap_learn-0.5.6-py3-none-any.whl.metadata (21 kB)\n",
            "Requirement already satisfied: scipy>=1.0 in /usr/local/lib/python3.10/dist-packages (from hdbscan>=0.8.29->bertopic) (1.13.1)\n",
            "Requirement already satisfied: joblib>=1.0 in /usr/local/lib/python3.10/dist-packages (from hdbscan>=0.8.29->bertopic) (1.4.2)\n",
            "Requirement already satisfied: python-dateutil>=2.8.2 in /usr/local/lib/python3.10/dist-packages (from pandas>=1.1.5->bertopic) (2.8.2)\n",
            "Requirement already satisfied: pytz>=2020.1 in /usr/local/lib/python3.10/dist-packages (from pandas>=1.1.5->bertopic) (2024.1)\n",
            "Requirement already satisfied: tzdata>=2022.1 in /usr/local/lib/python3.10/dist-packages (from pandas>=1.1.5->bertopic) (2024.1)\n",
            "Requirement already satisfied: tenacity>=6.2.0 in /usr/local/lib/python3.10/dist-packages (from plotly>=4.7.0->bertopic) (9.0.0)\n",
            "Requirement already satisfied: packaging in /usr/local/lib/python3.10/dist-packages (from plotly>=4.7.0->bertopic) (24.1)\n",
            "Requirement already satisfied: threadpoolctl>=2.0.0 in /usr/local/lib/python3.10/dist-packages (from scikit-learn>=0.22.2.post1->bertopic) (3.5.0)\n",
            "Requirement already satisfied: transformers<5.0.0,>=4.34.0 in /usr/local/lib/python3.10/dist-packages (from sentence-transformers>=0.4.1->bertopic) (4.44.2)\n",
            "Requirement already satisfied: torch>=1.11.0 in /usr/local/lib/python3.10/dist-packages (from sentence-transformers>=0.4.1->bertopic) (2.4.0+cu121)\n",
            "Requirement already satisfied: huggingface-hub>=0.15.1 in /usr/local/lib/python3.10/dist-packages (from sentence-transformers>=0.4.1->bertopic) (0.24.6)\n",
            "Requirement already satisfied: Pillow in /usr/local/lib/python3.10/dist-packages (from sentence-transformers>=0.4.1->bertopic) (9.4.0)\n",
            "Requirement already satisfied: numba>=0.51.2 in /usr/local/lib/python3.10/dist-packages (from umap-learn>=0.5.0->bertopic) (0.60.0)\n",
            "Collecting pynndescent>=0.5 (from umap-learn>=0.5.0->bertopic)\n",
            "  Downloading pynndescent-0.5.13-py3-none-any.whl.metadata (6.8 kB)\n",
            "Requirement already satisfied: filelock in /usr/local/lib/python3.10/dist-packages (from huggingface-hub>=0.15.1->sentence-transformers>=0.4.1->bertopic) (3.15.4)\n",
            "Requirement already satisfied: fsspec>=2023.5.0 in /usr/local/lib/python3.10/dist-packages (from huggingface-hub>=0.15.1->sentence-transformers>=0.4.1->bertopic) (2024.6.1)\n",
            "Requirement already satisfied: pyyaml>=5.1 in /usr/local/lib/python3.10/dist-packages (from huggingface-hub>=0.15.1->sentence-transformers>=0.4.1->bertopic) (6.0.2)\n",
            "Requirement already satisfied: requests in /usr/local/lib/python3.10/dist-packages (from huggingface-hub>=0.15.1->sentence-transformers>=0.4.1->bertopic) (2.32.3)\n",
            "Requirement already satisfied: typing-extensions>=3.7.4.3 in /usr/local/lib/python3.10/dist-packages (from huggingface-hub>=0.15.1->sentence-transformers>=0.4.1->bertopic) (4.12.2)\n",
            "Requirement already satisfied: llvmlite<0.44,>=0.43.0dev0 in /usr/local/lib/python3.10/dist-packages (from numba>=0.51.2->umap-learn>=0.5.0->bertopic) (0.43.0)\n",
            "Requirement already satisfied: six>=1.5 in /usr/local/lib/python3.10/dist-packages (from python-dateutil>=2.8.2->pandas>=1.1.5->bertopic) (1.16.0)\n",
            "Requirement already satisfied: sympy in /usr/local/lib/python3.10/dist-packages (from torch>=1.11.0->sentence-transformers>=0.4.1->bertopic) (1.13.2)\n",
            "Requirement already satisfied: networkx in /usr/local/lib/python3.10/dist-packages (from torch>=1.11.0->sentence-transformers>=0.4.1->bertopic) (3.3)\n",
            "Requirement already satisfied: jinja2 in /usr/local/lib/python3.10/dist-packages (from torch>=1.11.0->sentence-transformers>=0.4.1->bertopic) (3.1.4)\n",
            "Requirement already satisfied: regex!=2019.12.17 in /usr/local/lib/python3.10/dist-packages (from transformers<5.0.0,>=4.34.0->sentence-transformers>=0.4.1->bertopic) (2024.5.15)\n",
            "Requirement already satisfied: safetensors>=0.4.1 in /usr/local/lib/python3.10/dist-packages (from transformers<5.0.0,>=4.34.0->sentence-transformers>=0.4.1->bertopic) (0.4.4)\n",
            "Requirement already satisfied: tokenizers<0.20,>=0.19 in /usr/local/lib/python3.10/dist-packages (from transformers<5.0.0,>=4.34.0->sentence-transformers>=0.4.1->bertopic) (0.19.1)\n",
            "Requirement already satisfied: MarkupSafe>=2.0 in /usr/local/lib/python3.10/dist-packages (from jinja2->torch>=1.11.0->sentence-transformers>=0.4.1->bertopic) (2.1.5)\n",
            "Requirement already satisfied: charset-normalizer<4,>=2 in /usr/local/lib/python3.10/dist-packages (from requests->huggingface-hub>=0.15.1->sentence-transformers>=0.4.1->bertopic) (3.3.2)\n",
            "Requirement already satisfied: idna<4,>=2.5 in /usr/local/lib/python3.10/dist-packages (from requests->huggingface-hub>=0.15.1->sentence-transformers>=0.4.1->bertopic) (3.8)\n",
            "Requirement already satisfied: urllib3<3,>=1.21.1 in /usr/local/lib/python3.10/dist-packages (from requests->huggingface-hub>=0.15.1->sentence-transformers>=0.4.1->bertopic) (2.0.7)\n",
            "Requirement already satisfied: certifi>=2017.4.17 in /usr/local/lib/python3.10/dist-packages (from requests->huggingface-hub>=0.15.1->sentence-transformers>=0.4.1->bertopic) (2024.8.30)\n",
            "Requirement already satisfied: mpmath<1.4,>=1.1.0 in /usr/local/lib/python3.10/dist-packages (from sympy->torch>=1.11.0->sentence-transformers>=0.4.1->bertopic) (1.3.0)\n",
            "Downloading bertopic-0.16.3-py3-none-any.whl (143 kB)\n",
            "\u001b[2K   \u001b[90m━━━━━━━━━━━━━━━━━━━━━━━━━━━━━━━━━━━━━━━━\u001b[0m \u001b[32m143.5/143.5 kB\u001b[0m \u001b[31m5.5 MB/s\u001b[0m eta \u001b[36m0:00:00\u001b[0m\n",
            "\u001b[?25hDownloading hdbscan-0.8.38.post1-cp310-cp310-manylinux_2_17_x86_64.manylinux2014_x86_64.whl (4.2 MB)\n",
            "\u001b[2K   \u001b[90m━━━━━━━━━━━━━━━━━━━━━━━━━━━━━━━━━━━━━━━━\u001b[0m \u001b[32m4.2/4.2 MB\u001b[0m \u001b[31m32.5 MB/s\u001b[0m eta \u001b[36m0:00:00\u001b[0m\n",
            "\u001b[?25hDownloading sentence_transformers-3.0.1-py3-none-any.whl (227 kB)\n",
            "\u001b[2K   \u001b[90m━━━━━━━━━━━━━━━━━━━━━━━━━━━━━━━━━━━━━━━━\u001b[0m \u001b[32m227.1/227.1 kB\u001b[0m \u001b[31m12.4 MB/s\u001b[0m eta \u001b[36m0:00:00\u001b[0m\n",
            "\u001b[?25hDownloading umap_learn-0.5.6-py3-none-any.whl (85 kB)\n",
            "\u001b[2K   \u001b[90m━━━━━━━━━━━━━━━━━━━━━━━━━━━━━━━━━━━━━━━━\u001b[0m \u001b[32m85.7/85.7 kB\u001b[0m \u001b[31m3.7 MB/s\u001b[0m eta \u001b[36m0:00:00\u001b[0m\n",
            "\u001b[?25hDownloading pynndescent-0.5.13-py3-none-any.whl (56 kB)\n",
            "\u001b[2K   \u001b[90m━━━━━━━━━━━━━━━━━━━━━━━━━━━━━━━━━━━━━━━━\u001b[0m \u001b[32m56.9/56.9 kB\u001b[0m \u001b[31m3.5 MB/s\u001b[0m eta \u001b[36m0:00:00\u001b[0m\n",
            "\u001b[?25hInstalling collected packages: pynndescent, hdbscan, umap-learn, sentence-transformers, bertopic\n",
            "Successfully installed bertopic-0.16.3 hdbscan-0.8.38.post1 pynndescent-0.5.13 sentence-transformers-3.0.1 umap-learn-0.5.6\n"
          ]
        }
      ]
    },
    {
      "cell_type": "markdown",
      "source": [
        "## **Download stopwords from nltk**"
      ],
      "metadata": {
        "id": "fONsDmcPyy4m"
      }
    },
    {
      "cell_type": "markdown",
      "source": [
        "## **Import required libraries**"
      ],
      "metadata": {
        "id": "yl36CYMH0ePU"
      }
    },
    {
      "cell_type": "code",
      "source": [
        "import nltk\n",
        "nltk.download(\"stopwords\")\n",
        "nltk.download(\"punkt\")\n",
        "nltk.download(\"wordnet\")"
      ],
      "metadata": {
        "colab": {
          "base_uri": "https://localhost:8080/"
        },
        "id": "ih4jVVzryxDX",
        "outputId": "fc15634d-d824-4e4d-d20a-41bfe8b516ef"
      },
      "execution_count": null,
      "outputs": [
        {
          "output_type": "stream",
          "name": "stderr",
          "text": [
            "[nltk_data] Downloading package stopwords to /root/nltk_data...\n",
            "[nltk_data]   Unzipping corpora/stopwords.zip.\n",
            "[nltk_data] Downloading package punkt to /root/nltk_data...\n",
            "[nltk_data]   Unzipping tokenizers/punkt.zip.\n",
            "[nltk_data] Downloading package wordnet to /root/nltk_data...\n"
          ]
        },
        {
          "output_type": "execute_result",
          "data": {
            "text/plain": [
              "True"
            ]
          },
          "metadata": {},
          "execution_count": 2
        }
      ]
    },
    {
      "cell_type": "code",
      "execution_count": null,
      "metadata": {
        "id": "dB31r_5ZyRgh"
      },
      "outputs": [],
      "source": [
        "import numpy as np\n",
        "import pandas as pd\n",
        "\n",
        "# Gensim\n",
        "import gensim\n",
        "import gensim.corpora as corpora\n",
        "from gensim.utils import simple_preprocess\n",
        "from gensim.models import CoherenceModel\n",
        "\n",
        "# spacy\n",
        "import spacy\n",
        "from nltk.corpus import stopwords\n",
        "from nltk.tokenize import word_tokenize\n",
        "from nltk.stem import WordNetLemmatizer\n",
        "\n",
        "# vis\n",
        "import pyLDAvis\n",
        "import pyLDAvis.gensim"
      ]
    },
    {
      "cell_type": "markdown",
      "source": [
        "## **Data preprocessing**"
      ],
      "metadata": {
        "id": "5h0p_OaN7vod"
      }
    },
    {
      "cell_type": "code",
      "source": [
        "import re\n",
        "import pandas as pd\n",
        "\n",
        "# Function to remove emojis\n",
        "def remove_emojis(text):\n",
        "    emoji_pattern = re.compile(\"[\"\n",
        "                           u\"\\U0001F600-\\U0001F64F\"  # emoticons\n",
        "                           u\"\\U0001F300-\\U0001F5FF\"  # symbols & pictographs\n",
        "                           u\"\\U0001F680-\\U0001F6FF\"  # transport & map symbols\n",
        "                           u\"\\U0001F700-\\U0001F77F\"  # alchemical symbols\n",
        "                           u\"\\U0001F780-\\U0001F7FF\"  # Geometric Shapes Extended\n",
        "                           u\"\\U0001F800-\\U0001F8FF\"  # Supplemental Arrows-C\n",
        "                           u\"\\U0001F900-\\U0001F9FF\"  # Supplemental Symbols and Pictographs\n",
        "                           u\"\\U0001FA00-\\U0001FA6F\"  # Chess Symbols\n",
        "                           u\"\\U0001FA70-\\U0001FAFF\"  # Symbols and Pictographs Extended-A\n",
        "                           u\"\\U00002702-\\U000027B0\"  # Dingbats\n",
        "                           u\"\\U000024C2-\\U0001F251\"  # Enclosed characters\n",
        "                           \"]+\", flags=re.UNICODE)\n",
        "    return emoji_pattern.sub(r'', text)\n",
        "\n",
        "# Load the dataset\n",
        "df = pd.read_csv(\"AI in edu dataset - Sheet1.csv\")\n",
        "\n",
        "# Remove null values\n",
        "df = df.dropna(subset=['Content'])\n",
        "\n",
        "# Remove all columns except content\n",
        "df = df['Content']\n",
        "\n",
        "# Remove newlines from content\n",
        "df = df.map(lambda x: re.sub(r'\\n', '', x))\n",
        "\n",
        "# Remove punctuation\n",
        "df = df.map(lambda x: re.sub('[,\\.!?]', '', x))\n",
        "\n",
        "# Convert to lowercase\n",
        "df = df.map(lambda x: x.lower())\n",
        "\n",
        "# Remove emojis\n",
        "df = df.map(lambda x: remove_emojis(x))\n",
        "\n",
        "# Display the first few rows of the preprocessed data\n",
        "df.head()"
      ],
      "metadata": {
        "colab": {
          "base_uri": "https://localhost:8080/",
          "height": 365
        },
        "id": "v2iBOukr7vSg",
        "outputId": "d86101fa-d319-4484-a51e-2e7a743802d3"
      },
      "execution_count": null,
      "outputs": [
        {
          "output_type": "stream",
          "name": "stderr",
          "text": [
            "/usr/local/lib/python3.10/dist-packages/ipykernel/ipkernel.py:283: DeprecationWarning: `should_run_async` will not call `transform_cell` automatically in the future. Please pass the result to `transformed_cell` argument and any exception that happen during thetransform in `preprocessing_exc_tuple` in IPython 7.17 and above.\n",
            "  and should_run_async(code)\n",
            "<>:34: DeprecationWarning: invalid escape sequence '\\.'\n",
            "<>:34: DeprecationWarning: invalid escape sequence '\\.'\n",
            "<ipython-input-4-7a72b082410f>:34: DeprecationWarning: invalid escape sequence '\\.'\n",
            "  df = df.map(lambda x: re.sub('[,\\.!?]', '', x))\n"
          ]
        },
        {
          "output_type": "execute_result",
          "data": {
            "text/plain": [
              "0    the education system that ai will destroy will...\n",
              "1    ai tool sare very helpful but you need to use ...\n",
              "2    ai and teachers should join forces in a collab...\n",
              "3    kids that learn how to use the ai will realize...\n",
              "4    but here’s the thing if we embrace the ai how ...\n",
              "Name: Content, dtype: object"
            ],
            "text/html": [
              "<div>\n",
              "<style scoped>\n",
              "    .dataframe tbody tr th:only-of-type {\n",
              "        vertical-align: middle;\n",
              "    }\n",
              "\n",
              "    .dataframe tbody tr th {\n",
              "        vertical-align: top;\n",
              "    }\n",
              "\n",
              "    .dataframe thead th {\n",
              "        text-align: right;\n",
              "    }\n",
              "</style>\n",
              "<table border=\"1\" class=\"dataframe\">\n",
              "  <thead>\n",
              "    <tr style=\"text-align: right;\">\n",
              "      <th></th>\n",
              "      <th>Content</th>\n",
              "    </tr>\n",
              "  </thead>\n",
              "  <tbody>\n",
              "    <tr>\n",
              "      <th>0</th>\n",
              "      <td>the education system that ai will destroy will...</td>\n",
              "    </tr>\n",
              "    <tr>\n",
              "      <th>1</th>\n",
              "      <td>ai tool sare very helpful but you need to use ...</td>\n",
              "    </tr>\n",
              "    <tr>\n",
              "      <th>2</th>\n",
              "      <td>ai and teachers should join forces in a collab...</td>\n",
              "    </tr>\n",
              "    <tr>\n",
              "      <th>3</th>\n",
              "      <td>kids that learn how to use the ai will realize...</td>\n",
              "    </tr>\n",
              "    <tr>\n",
              "      <th>4</th>\n",
              "      <td>but here’s the thing if we embrace the ai how ...</td>\n",
              "    </tr>\n",
              "  </tbody>\n",
              "</table>\n",
              "</div><br><label><b>dtype:</b> object</label>"
            ]
          },
          "metadata": {},
          "execution_count": 4
        }
      ]
    },
    {
      "cell_type": "markdown",
      "source": [
        "## **Data Exploration**"
      ],
      "metadata": {
        "id": "1Y-WU8ZwtrpR"
      }
    },
    {
      "cell_type": "markdown",
      "source": [
        "### **Using a Wordcloud to get the most common words in the data**\n"
      ],
      "metadata": {
        "id": "fBZRJTFJtx1G"
      }
    },
    {
      "cell_type": "code",
      "source": [
        "# Import the wordcloud library\n",
        "from wordcloud import WordCloud\n",
        "\n",
        "# Join the different processed titles together.\n",
        "long_string = ','.join(list(df.values))\n",
        "# Create a WordCloud object\n",
        "wordcloud = WordCloud(background_color=\"white\", max_words=5000, contour_width=3, contour_color='steelblue')\n",
        "\n",
        "# Generate a word cloud\n",
        "wordcloud.generate(long_string)\n",
        "\n",
        "# Visualize the word cloud\n",
        "wordcloud.to_image()"
      ],
      "metadata": {
        "colab": {
          "base_uri": "https://localhost:8080/",
          "height": 272
        },
        "id": "mNigkclftin8",
        "outputId": "c5152636-a95f-452e-d4bc-4c6c36f6fb14"
      },
      "execution_count": null,
      "outputs": [
        {
          "output_type": "stream",
          "name": "stderr",
          "text": [
            "/usr/local/lib/python3.10/dist-packages/ipykernel/ipkernel.py:283: DeprecationWarning: `should_run_async` will not call `transform_cell` automatically in the future. Please pass the result to `transformed_cell` argument and any exception that happen during thetransform in `preprocessing_exc_tuple` in IPython 7.17 and above.\n",
            "  and should_run_async(code)\n"
          ]
        },
        {
          "output_type": "execute_result",
          "data": {
            "text/plain": [
              "<PIL.Image.Image image mode=RGB size=400x200>"
            ],
            "image/png": "[encoded data removed]"
          },
          "metadata": {},
          "execution_count": 5
        }
      ]
    },
    {
      "cell_type": "markdown",
      "source": [
        "## **Data Preparation for LDA**"
      ],
      "metadata": {
        "id": "lOCZRogwt8Ln"
      }
    },
    {
      "cell_type": "markdown",
      "source": [
        "## **Lemmatization and removal of stopwords**"
      ],
      "metadata": {
        "id": "JQ6bWfJQt1-b"
      }
    },
    {
      "cell_type": "code",
      "source": [
        "from nltk.stem import WordNetLemmatizer\n",
        "\n",
        "lemmatizer = WordNetLemmatizer()\n",
        "\n",
        "english_stop_words = set(stopwords.words('english'))\n",
        "tagalog_stop_words = set()\n",
        "with open('tagalog_stop_words.txt', 'r') as file:\n",
        "  for line in file:\n",
        "    tagalog_stop_words.add(line.strip())\n",
        "\n",
        "# Combine English and Tagalog stop words into one set\n",
        "combined_stop_words = english_stop_words.union(tagalog_stop_words)\n",
        "\n",
        "# Function to process each document (tokenization, stopword removal, lemmatization)\n",
        "def preprocess(document):\n",
        "  tokens = gensim.utils.simple_preprocess(str(document), deacc=True)\n",
        "  tokens = [lemmatizer.lemmatize(token) for token in tokens if token not in combined_stop_words]\n",
        "  return tokens\n",
        "\n",
        "# Convert the DataFrame content into a list of documents\n",
        "data = df.values.tolist()\n",
        "\n",
        "processed_data = [preprocess(doc) for doc in data]\n",
        "\n",
        "# Display the first 5 processed documents\n",
        "print(processed_data[:5])\n",
        "\n",
        "#def sent_to_words(sentences):\n",
        "#  for sentence in sentences:\n",
        "#    # deacc=True removes punctuations\n",
        "#    yield(gensim.utils.simple_preprocess(str(sentence), deacc=True))\n",
        "\n",
        "#def remove_stopwords(texts):\n",
        "#  return [[word for word in simple_preprocess(str(doc)) if word not in stop_words] for doc in texts]\n",
        "\n",
        "#data = df.values.tolist()\n",
        "#data_words = list(sent_to_words(data))\n",
        "\n",
        "# Remove stopwords\n",
        "#data_words = remove_stopwords(data_words)\n",
        "\n",
        "#print(data_words[:1][0][:30])"
      ],
      "metadata": {
        "colab": {
          "base_uri": "https://localhost:8080/"
        },
        "id": "g_DiIl-Tt7x0",
        "outputId": "41a79413-d9d3-4003-c5cd-5e868036ca36"
      },
      "execution_count": null,
      "outputs": [
        {
          "output_type": "stream",
          "name": "stderr",
          "text": [
            "/usr/local/lib/python3.10/dist-packages/ipykernel/ipkernel.py:283: DeprecationWarning: `should_run_async` will not call `transform_cell` automatically in the future. Please pass the result to `transformed_cell` argument and any exception that happen during thetransform in `preprocessing_exc_tuple` in IPython 7.17 and above.\n",
            "  and should_run_async(code)\n"
          ]
        },
        {
          "output_type": "stream",
          "name": "stdout",
          "text": [
            "[['education', 'system', 'ai', 'destroy', 'system', 'adapt', 'change', 'world', 'ai'], ['ai', 'tool', 'sare', 'helpful', 'need', 'use', 'properly', 'going', 'replace', 'human', 'still', 'need', 'human', 'touch'], ['ai', 'teacher', 'join', 'force', 'collaborative', 'effort', 'revolutionize', 'education', 'ai', 'teacher', 'empower', 'student', 'best'], ['kid', 'learn', 'use', 'ai', 'realize', 'career', 'obsolete', 'ai', 'take', 'smarter', 'path'], ['thing', 'embrace', 'ai', 'student', 'ever', 'learn', 'form', 'opinion', 'ask', 'ai', 'form']]\n"
          ]
        }
      ]
    },
    {
      "cell_type": "markdown",
      "source": [
        "## **Dictionary and corpus creation**"
      ],
      "metadata": {
        "id": "1_b69bnEq1nk"
      }
    },
    {
      "cell_type": "code",
      "source": [
        "# Create Dictionary\n",
        "id2word = corpora.Dictionary(processed_data)\n",
        "\n",
        "# Create Corpus\n",
        "corpus = [id2word.doc2bow(text) for text in processed_data]\n",
        "\n",
        "# Display Results\n",
        "print(corpus[:1][0][:15])"
      ],
      "metadata": {
        "colab": {
          "base_uri": "https://localhost:8080/"
        },
        "id": "P0-9kAttvnFI",
        "outputId": "a22d738f-c7d8-40ae-90e6-f2073e2d0cac"
      },
      "execution_count": null,
      "outputs": [
        {
          "output_type": "stream",
          "name": "stdout",
          "text": [
            "[(0, 1), (1, 2), (2, 1), (3, 1), (4, 1), (5, 2), (6, 1)]\n"
          ]
        },
        {
          "output_type": "stream",
          "name": "stderr",
          "text": [
            "/usr/local/lib/python3.10/dist-packages/ipykernel/ipkernel.py:283: DeprecationWarning: `should_run_async` will not call `transform_cell` automatically in the future. Please pass the result to `transformed_cell` argument and any exception that happen during thetransform in `preprocessing_exc_tuple` in IPython 7.17 and above.\n",
            "  and should_run_async(code)\n"
          ]
        }
      ]
    },
    {
      "cell_type": "markdown",
      "source": [
        "## **LDA Model Training**"
      ],
      "metadata": {
        "id": "KswV2vcawJT7"
      }
    },
    {
      "cell_type": "markdown",
      "source": [
        "### **Multi-core training**"
      ],
      "metadata": {
        "id": "iva0FAj5wQ0Z"
      }
    },
    {
      "cell_type": "code",
      "source": [
        "from pprint import pprint\n",
        "\n",
        "# Build LDA Model\n",
        "lda_model = gensim.models.LdaMulticore(corpus=corpus, id2word=id2word, num_topics=5, passes=10)\n",
        "\n",
        "# Print the keyword in the 5 topics\n",
        "pprint(lda_model.print_topics())\n",
        "doc_lda = lda_model[corpus]"
      ],
      "metadata": {
        "colab": {
          "base_uri": "https://localhost:8080/"
        },
        "id": "0juzhVDbv80L",
        "outputId": "0eeb7427-d3c2-46de-ae0e-9beaa96d2955"
      },
      "execution_count": 118,
      "outputs": [
        {
          "output_type": "stream",
          "name": "stderr",
          "text": [
            "/usr/local/lib/python3.10/dist-packages/ipykernel/ipkernel.py:283: DeprecationWarning:\n",
            "\n",
            "`should_run_async` will not call `transform_cell` automatically in the future. Please pass the result to `transformed_cell` argument and any exception that happen during thetransform in `preprocessing_exc_tuple` in IPython 7.17 and above.\n",
            "\n"
          ]
        },
        {
          "output_type": "stream",
          "name": "stdout",
          "text": [
            "[(0,\n",
            "  '0.053*\"ai\" + 0.022*\"student\" + 0.013*\"tool\" + 0.012*\"education\" + '\n",
            "  '0.011*\"mo\" + 0.010*\"teacher\" + 0.010*\"work\" + 0.008*\"yung\" + '\n",
            "  '0.007*\"learning\" + 0.007*\"school\"'),\n",
            " (1,\n",
            "  '0.037*\"ai\" + 0.013*\"education\" + 0.008*\"ma\" + 0.008*\"pag\" + 0.007*\"school\" '\n",
            "  '+ 0.006*\"yung\" + 0.005*\"need\" + 0.005*\"learning\" + 0.005*\"teacher\" + '\n",
            "  '0.005*\"estudyante\"'),\n",
            " (2,\n",
            "  '0.024*\"ai\" + 0.017*\"student\" + 0.007*\"learn\" + 0.006*\"teaching\" + '\n",
            "  '0.006*\"use\" + 0.005*\"learning\" + 0.005*\"gpt\" + 0.005*\"chat\" + '\n",
            "  '0.005*\"traditional\" + 0.005*\"method\"'),\n",
            " (3,\n",
            "  '0.052*\"ai\" + 0.019*\"student\" + 0.011*\"teacher\" + 0.009*\"education\" + '\n",
            "  '0.008*\"using\" + 0.008*\"time\" + 0.007*\"technology\" + 0.006*\"need\" + '\n",
            "  '0.005*\"tool\" + 0.005*\"skill\"'),\n",
            " (4,\n",
            "  '0.044*\"ai\" + 0.031*\"student\" + 0.026*\"learning\" + 0.012*\"education\" + '\n",
            "  '0.010*\"need\" + 0.010*\"teacher\" + 0.009*\"personalized\" + 0.007*\"help\" + '\n",
            "  '0.005*\"experience\" + 0.005*\"educational\"')]\n"
          ]
        }
      ]
    },
    {
      "cell_type": "markdown",
      "source": [
        "### **Single-core training**\n"
      ],
      "metadata": {
        "id": "S_jc72Z9wU3V"
      }
    },
    {
      "cell_type": "code",
      "source": [
        "from gensim.models import LdaModel\n",
        "\n",
        "lda_model = LdaModel(corpus, num_topics=5, id2word=id2word, passes=10, alpha='auto', eta='auto')"
      ],
      "metadata": {
        "colab": {
          "base_uri": "https://localhost:8080/"
        },
        "id": "-6jEG17JwYfN",
        "outputId": "ab706ca2-929a-4bb2-f4c2-a3e0018e87e9"
      },
      "execution_count": 108,
      "outputs": [
        {
          "output_type": "stream",
          "name": "stderr",
          "text": [
            "/usr/local/lib/python3.10/dist-packages/ipykernel/ipkernel.py:283: DeprecationWarning:\n",
            "\n",
            "`should_run_async` will not call `transform_cell` automatically in the future. Please pass the result to `transformed_cell` argument and any exception that happen during thetransform in `preprocessing_exc_tuple` in IPython 7.17 and above.\n",
            "\n"
          ]
        }
      ]
    },
    {
      "cell_type": "markdown",
      "source": [
        "## **Display Topics**"
      ],
      "metadata": {
        "id": "iUd0ktm9w-WQ"
      }
    },
    {
      "cell_type": "code",
      "source": [
        "num_topics = lda_model.num_topics\n",
        "\n",
        "# Print each topic with its top words\n",
        "for topic_id in range(num_topics):\n",
        "    topic_terms = lda_model.show_topic(topic_id, topn=10)  # Get top 10 words for each topic\n",
        "    print(f\"Topic #{topic_id}:\")\n",
        "    print(\", \".join([f\"{word} ({round(weight, 4)})\" for word, weight in topic_terms]))\n",
        "    print()"
      ],
      "metadata": {
        "colab": {
          "base_uri": "https://localhost:8080/"
        },
        "id": "rShH3cvfxCSb",
        "outputId": "da05c275-c64a-466b-8646-d9af109e5fd2"
      },
      "execution_count": 65,
      "outputs": [
        {
          "output_type": "stream",
          "name": "stdout",
          "text": [
            "Topic #0:\n",
            "ai (0.053300000727176666), education (0.020899999886751175), student (0.018799999728798866), learning (0.012600000016391277), tool (0.010599999688565731), technology (0.009800000116229057), use (0.00839999970048666), using (0.007899999618530273), teacher (0.006300000008195639), need (0.006300000008195639)\n",
            "\n",
            "Topic #1:\n",
            "ai (0.05719999969005585), yung (0.01549999974668026), student (0.011300000362098217), work (0.01119999960064888), teacher (0.01119999960064888), mo (0.009600000455975533), mag (0.00860000029206276), tool (0.007799999788403511), use (0.006300000008195639), education (0.006099999882280827)\n",
            "\n",
            "Topic #2:\n",
            "ai (0.041600000113248825), student (0.030799999833106995), learning (0.01850000023841858), teacher (0.009999999776482582), education (0.009600000455975533), help (0.008100000210106373), learn (0.007300000172108412), need (0.0071000000461936), system (0.005400000140070915), use (0.005400000140070915)\n",
            "\n",
            "Topic #3:\n",
            "ai (0.021800000220537186), make (0.008700000122189522), tool (0.007899999618530273), like (0.006399999838322401), teacher (0.005900000222027302), people (0.005499999970197678), educational (0.005200000014156103), education (0.004999999888241291), student (0.004699999932199717), mag (0.004699999932199717)\n",
            "\n",
            "Topic #4:\n",
            "ai (0.035599999129772186), student (0.026000000536441803), thinking (0.008200000040233135), skill (0.007000000216066837), teacher (0.006200000178068876), chatgpt (0.005799999926239252), school (0.00559999980032444), ma (0.00559999980032444), education (0.005400000140070915), human (0.005100000184029341)\n",
            "\n"
          ]
        },
        {
          "output_type": "stream",
          "name": "stderr",
          "text": [
            "/usr/local/lib/python3.10/dist-packages/ipykernel/ipkernel.py:283: DeprecationWarning:\n",
            "\n",
            "`should_run_async` will not call `transform_cell` automatically in the future. Please pass the result to `transformed_cell` argument and any exception that happen during thetransform in `preprocessing_exc_tuple` in IPython 7.17 and above.\n",
            "\n"
          ]
        }
      ]
    },
    {
      "cell_type": "code",
      "source": [
        "pyLDAvis.enable_notebook()\n",
        "vis = pyLDAvis.gensim.prepare(lda_model, corpus, dictionary=id2word)\n",
        "vis"
      ],
      "metadata": {
        "colab": {
          "base_uri": "https://localhost:8080/",
          "height": 1000
        },
        "id": "ZJpJg7g7xOsB",
        "outputId": "e6a0ec30-e591-44ea-d9c4-25e5f18fd7c5"
      },
      "execution_count": 66,
      "outputs": [
        {
          "output_type": "stream",
          "name": "stderr",
          "text": [
            "/usr/local/lib/python3.10/dist-packages/ipykernel/ipkernel.py:283: DeprecationWarning:\n",
            "\n",
            "`should_run_async` will not call `transform_cell` automatically in the future. Please pass the result to `transformed_cell` argument and any exception that happen during thetransform in `preprocessing_exc_tuple` in IPython 7.17 and above.\n",
            "\n",
            "/usr/local/lib/python3.10/dist-packages/joblib/externals/loky/backend/fork_exec.py:38: RuntimeWarning:\n",
            "\n",
            "os.fork() was called. os.fork() is incompatible with multithreaded code, and JAX is multithreaded, so this will likely lead to a deadlock.\n",
            "\n"
          ]
        },
        {
          "output_type": "execute_result",
          "data": {
            "text/plain": [
              "PreparedData(topic_coordinates=              x         y  topics  cluster       Freq\n",
              "topic                                                \n",
              "1      0.104116 -0.069967       1        1  26.877503\n",
              "2     -0.091121 -0.021308       2        1  25.893779\n",
              "0     -0.065620 -0.021286       3        1  22.909792\n",
              "4      0.034176  0.118886       4        1  15.652471\n",
              "3      0.018449 -0.006326       5        1   8.666456, topic_info=          Term        Freq       Total Category  logprob  loglift\n",
              "1506      yung   36.000000   36.000000  Default  30.0000  30.0000\n",
              "25     student  153.000000  153.000000  Default  29.0000  29.0000\n",
              "1539       mag   23.000000   23.000000  Default  28.0000  28.0000\n",
              "128   learning   70.000000   70.000000  Default  27.0000  27.0000\n",
              "94        make   25.000000   25.000000  Default  26.0000  26.0000\n",
              "...        ...         ...         ...      ...      ...      ...\n",
              "620      might    1.914918    9.676673   Topic5  -5.8571   0.8257\n",
              "51        work    2.511832   35.110421   Topic5  -5.5858  -0.1918\n",
              "25     student    3.180171  153.110388   Topic5  -5.3498  -1.4285\n",
              "302        one    1.910427   12.570831   Topic5  -5.8594   0.5617\n",
              "1495      lang    1.909828   25.947915   Topic5  -5.8598  -0.1634\n",
              "\n",
              "[380 rows x 6 columns], token_table=      Topic      Freq    Term\n",
              "term                         \n",
              "196       1  0.142283  access\n",
              "196       2  0.497989  access\n",
              "196       3  0.284565  access\n",
              "196       5  0.071141  access\n",
              "197       1  0.953044     act\n",
              "...     ...       ...     ...\n",
              "1726      1  0.817718     yun\n",
              "1726      5  0.116817     yun\n",
              "1506      1  0.876803    yung\n",
              "1506      3  0.027400    yung\n",
              "1506      4  0.082200    yung\n",
              "\n",
              "[619 rows x 3 columns], R=30, lambda_step=0.01, plot_opts={'xlab': 'PC1', 'ylab': 'PC2'}, topic_order=[2, 3, 1, 5, 4])"
            ],
            "text/html": [
              "\n",
              "<link rel=\"stylesheet\" type=\"text/css\" href=\"https://cdn.jsdelivr.net/gh/bmabey/pyLDAvis@3.4.0/pyLDAvis/js/ldavis.v1.0.0.css\">\n",
              "\n",
              "\n",
              "<div id=\"ldavis_el4971340864681897927533734440\" style=\"background-color:white;\"></div>\n",
              "<script type=\"text/javascript\">\n",
              "\n",
              "var ldavis_el4971340864681897927533734440_data = {\"mdsDat\": {\"x\": [0.10411628928914111, -0.09112142497859513, -0.06561984925041485, 0.034175980324517685, 0.018449004615351303], \"y\": [-0.06996699317678846, -0.02130776256590214, -0.02128563057374876, 0.1188863703132947, -0.006325983996855409], \"topics\": [1, 2, 3, 4, 5], \"cluster\": [1, 1, 1, 1, 1], \"Freq\": [26.877502827445625, 25.89377851552775, 22.909791962230717, 15.652470958956203, 8.666455735839708]}, \"tinfo\": {\"Term\": [\"yung\", \"student\", \"mag\", \"learning\", \"make\", \"thinking\", \"work\", \"technology\", \"education\", \"like\", \"skill\", \"assignment\", \"chatgpt\", \"content\", \"educational\", \"tool\", \"trabaho\", \"people\", \"mo\", \"personalized\", \"gpt\", \"chat\", \"something\", \"impact\", \"using\", \"already\", \"actually\", \"kid\", \"focus\", \"creativity\", \"focus\", \"cheat\", \"puro\", \"yung\", \"mali\", \"lalo\", \"pinagawa\", \"activity\", \"tama\", \"yun\", \"ginagamit\", \"autopilot\", \"maraming\", \"kayo\", \"maayos\", \"probinsya\", \"aralan\", \"growth\", \"act\", \"ganito\", \"gatsby\", \"nsa\", \"attention\", \"drawing\", \"epekto\", \"basta\", \"palang\", \"rephrase\", \"paggamit\", \"problema\", \"mag\", \"gamitin\", \"work\", \"pwede\", \"mo\", \"copy\", \"naman\", \"pwedeng\", \"ai\", \"pag\", \"know\", \"task\", \"nga\", \"thing\", \"prof\", \"teacher\", \"time\", \"lang\", \"yan\", \"tool\", \"use\", \"student\", \"di\", \"kasi\", \"point\", \"education\", \"need\", \"school\", \"cheating\", \"ma\", \"people\", \"answer\", \"learning\", \"teaching\", \"implementing\", \"targeted\", \"pop\", \"either\", \"determine\", \"nun\", \"inspiration\", \"limited\", \"ofc\", \"powerful\", \"project\", \"creating\", \"analyze\", \"material\", \"amount\", \"dominated\", \"youth\", \"gold\", \"independently\", \"phd\", \"meet\", \"preference\", \"individualized\", \"instructional\", \"behavior\", \"makakatulong\", \"banned\", \"enable\", \"naka\", \"two\", \"tailored\", \"instead\", \"interactive\", \"interest\", \"personalize\", \"identify\", \"question\", \"pilipinas\", \"large\", \"thought\", \"presentation\", \"help\", \"provide\", \"much\", \"learning\", \"topic\", \"based\", \"student\", \"learn\", \"ai\", \"assist\", \"system\", \"personalized\", \"content\", \"data\", \"future\", \"teacher\", \"need\", \"classroom\", \"also\", \"educational\", \"education\", \"access\", \"cheating\", \"well\", \"use\", \"world\", \"school\", \"kid\", \"way\", \"time\", \"make\", \"people\", \"technology\", \"tool\", \"ung\", \"speech\", \"collaborative\", \"needed\", \"text\", \"implemented\", \"discussion\", \"power\", \"reliance\", \"promising\", \"promoting\", \"integrate\", \"belief\", \"opinion\", \"theory\", \"form\", \"considered\", \"emotional\", \"manipulatives\", \"opt\", \"various\", \"lng\", \"privilege\", \"pra\", \"impairment\", \"preparation\", \"product\", \"mr\", \"empower\", \"educating\", \"love\", \"would\", \"technology\", \"better\", \"using\", \"game\", \"education\", \"understanding\", \"tao\", \"ai\", \"collaboration\", \"buhay\", \"tool\", \"concern\", \"designed\", \"learning\", \"use\", \"inequality\", \"experience\", \"personalized\", \"student\", \"human\", \"ba\", \"educator\", \"need\", \"like\", \"support\", \"impact\", \"providing\", \"teacher\", \"individual\", \"chatgpt\", \"time\", \"effective\", \"also\", \"make\", \"school\", \"learn\", \"skill\", \"system\", \"educational\", \"thinking\", \"kasi\", \"ruler\", \"eventually\", \"engineering\", \"trained\", \"nagiging\", \"public\", \"gpt\", \"chat\", \"method\", \"traditional\", \"bias\", \"district\", \"script\", \"awareness\", \"attending\", \"experiment\", \"explore\", \"straight\", \"limiting\", \"analytical\", \"potentially\", \"rate\", \"daming\", \"dami\", \"overused\", \"enter\", \"doubling\", \"engagement\", \"dropout\", \"instance\", \"trabaho\", \"creativity\", \"masyadong\", \"risk\", \"baka\", \"thinking\", \"biased\", \"critical\", \"skill\", \"test\", \"umasa\", \"coding\", \"student\", \"leading\", \"chatgpt\", \"step\", \"book\", \"always\", \"ai\", \"ma\", \"estudyante\", \"interaction\", \"human\", \"assignment\", \"school\", \"could\", \"yan\", \"tutor\", \"rin\", \"teacher\", \"mo\", \"education\", \"lang\", \"tool\", \"teaching\", \"adopting\", \"narrow\", \"assistant\", \"improves\", \"saw\", \"profit\", \"procrastination\", \"mawalan\", \"programme\", \"urgent\", \"banning\", \"correctly\", \"redesign\", \"optimised\", \"smythos\", \"pabagsakin\", \"pautakang\", \"economic\", \"organization\", \"money\", \"halo\", \"pautakan\", \"inaccurate\", \"labanan\", \"mangdaya\", \"bussy\", \"medium\", \"gobyerno\", \"manager\", \"istudiyante\", \"policy\", \"efficiency\", \"day\", \"sure\", \"robot\", \"uk\", \"today\", \"actually\", \"already\", \"image\", \"something\", \"make\", \"going\", \"content\", \"like\", \"lot\", \"assignment\", \"without\", \"start\", \"literally\", \"authority\", \"certain\", \"impact\", \"people\", \"educational\", \"kid\", \"ai\", \"tool\", \"idea\", \"mag\", \"life\", \"teacher\", \"think\", \"need\", \"skill\", \"system\", \"education\", \"teaching\", \"might\", \"work\", \"student\", \"one\", \"lang\"], \"Freq\": [36.0, 153.0, 23.0, 70.0, 25.0, 19.0, 35.0, 28.0, 78.0, 17.0, 21.0, 12.0, 18.0, 7.0, 19.0, 52.0, 8.0, 21.0, 32.0, 17.0, 6.0, 6.0, 7.0, 10.0, 24.0, 6.0, 6.0, 16.0, 7.0, 6.0, 7.3547632718295, 6.494032574973714, 4.97597002221652, 32.13075588582942, 4.164683602112022, 4.15891970492685, 4.1583036642377635, 4.147044239241395, 4.0618942634926025, 7.318157689219444, 3.3681877193524423, 3.36439186424308, 3.360723182368592, 5.777658489701181, 2.5690330455968335, 2.568214156344897, 2.566469030091433, 2.563288248574314, 2.5629492811307903, 2.5606804719367613, 2.5590526061755297, 2.5579851730349032, 2.5562025717787678, 2.555149645090789, 2.5472530575922616, 2.5415658028319097, 2.5275549873167797, 2.4863677834123035, 6.14338453577822, 2.4538099846392507, 17.849795406921636, 7.487526326457076, 23.33505651803233, 6.209086194011274, 19.862902261428147, 5.468677817992788, 10.144651498173774, 6.298384048120335, 118.73844057468854, 10.396155670300102, 7.456391610688718, 9.829185475035219, 6.889684949313596, 6.554865867698353, 4.616592966914759, 23.214339621683028, 12.032191465662583, 10.980049093223258, 7.295229273713633, 16.25905842769228, 13.00180662899174, 23.481892765921422, 5.762195578276062, 7.379224535831704, 6.5287943874523044, 12.629453068248598, 9.755978178202481, 8.946798578570784, 7.698528482792298, 7.513257872162757, 7.391763913499982, 6.660606302334643, 6.963559059419685, 6.70113346264367, 3.359680552180685, 3.2941412225303806, 2.5790976443434417, 2.579144695234919, 2.5772924740021184, 2.573116125070515, 2.568715702091382, 2.565406300774024, 2.5637173601101613, 2.550405684625435, 5.745812008942409, 4.966253273233011, 6.123659550228769, 6.724124424810411, 2.904324819568034, 1.7739986598693849, 1.7739969129303448, 1.7739903910245955, 1.7739907404124036, 1.7739853831326808, 1.7739856160578862, 1.773984218506654, 1.7739823551050116, 1.773972106395977, 1.7739774636756995, 1.7739029276099934, 1.7738646114137162, 1.7736277264798934, 1.7728263473109487, 1.7726122890472484, 4.151903431303986, 8.21621021478834, 4.084557300835922, 4.028501055070301, 4.589648620842303, 3.395883418069829, 10.634728523800254, 3.3711467612635655, 3.28497235474769, 3.3842243469169335, 3.3830606525910945, 16.149233691737262, 7.543443493069989, 3.220954958389025, 37.0508943865119, 4.16544430519076, 6.3666038003429675, 61.64318601391202, 14.651850716739673, 83.14251415155226, 5.714513849101943, 10.735952227832632, 8.69094718788626, 4.97300763833723, 8.21336200537754, 9.03744579163739, 19.96520260905275, 14.17085457752407, 5.535200572430763, 9.655967493986783, 8.360537193917825, 19.30024400606754, 6.7344961183534355, 8.248100470500761, 5.472454714768006, 10.716865404806903, 5.805819597891283, 8.602221318671177, 6.611518131843865, 6.108457919627979, 7.762600489514858, 7.358452897444046, 6.960659039124282, 6.924823496283946, 7.0552704624276945, 4.820962664930994, 3.267106402970971, 2.4920537304867842, 2.4901969225039946, 2.489008029579165, 2.4882677793822525, 2.487931657981594, 2.486141414813282, 2.4830075103744047, 2.453983602598136, 1.713203566249116, 1.7132007841283872, 1.713196868551065, 1.7131926438492173, 1.7131857400681494, 1.7131801758266914, 1.713011187752786, 1.7123023652159597, 1.7118132271752105, 1.7106311349899403, 4.0475050749980594, 1.7100012422486088, 1.7105429314586824, 1.7096981971721725, 1.7100673948970524, 1.708923325028411, 1.7093115854323597, 1.7091259046340805, 1.7088710829836122, 1.7062339416571117, 3.2638659536123265, 4.823532932318491, 17.364963877569952, 5.192580628762046, 14.066873923414462, 3.177760965716069, 37.056868802855185, 4.042111882444274, 4.651783758151893, 94.32314171653867, 2.4854893681476273, 2.4826862269509675, 18.689164316677456, 4.025294271762416, 3.644729831999191, 22.38681626743141, 14.839947374603787, 2.4842996508907302, 6.124708128107333, 7.4187281215474, 33.30101406211994, 9.147016140305759, 6.341982689384044, 6.191702831758077, 11.082890757713644, 6.3887590004070915, 5.522271414959068, 4.743128818920337, 4.058264257147393, 11.110660856414741, 4.067008771722946, 5.564608285630811, 6.630646468565107, 4.309833093276052, 5.855313111011824, 5.913003166446923, 6.391168935207396, 6.132377301500401, 5.444557509264281, 5.328949470577328, 5.157683355002479, 5.105718697944503, 4.845603599102604, 2.9861903065195214, 2.2761217967223506, 2.2759966251447925, 2.2690875483047734, 2.265251722334677, 2.2636886968200844, 4.99524368807682, 4.994936179949276, 4.368288964977816, 4.319536536324661, 4.291610461690554, 1.5668420509043481, 1.56682233884489, 1.5668131868172848, 1.5667953051633479, 1.5655521782136734, 1.5652281964364392, 1.5648892898141866, 1.564574882465832, 1.5643538257990535, 1.5642755407629203, 1.5641070026545547, 1.563838496244652, 1.5638166721788236, 1.563686572586401, 1.5634964920130563, 1.5634322870193933, 3.6877470082423156, 1.563323166690251, 1.561636518402772, 5.644773506469642, 4.5411164174815255, 2.9142077789968472, 2.882170331961505, 4.8841414521564035, 9.945840124683034, 2.276491257036763, 5.382414443109524, 8.483292609164867, 2.934479660943425, 2.280158404098069, 2.273896586810395, 31.504124313067695, 2.2709687827791876, 6.975242901997316, 2.270732801267391, 2.2679342520260577, 3.9334840182649238, 43.037494858257915, 6.7489873203370205, 4.624287509952545, 3.453260796955769, 6.170786997097116, 4.258644576654741, 6.817054751250493, 4.475654357626699, 4.418927274519398, 3.6910479333989774, 3.732989000706854, 7.469612341976059, 5.111552160500936, 6.478598690357123, 4.719520411605896, 5.108791345773422, 4.1396851138343775, 1.3113498614366386, 1.3102297560117504, 1.3096049978773507, 1.309460151282178, 1.3084487197828394, 1.3076643809270627, 1.3052412798123374, 1.2869873345703031, 0.715225201544151, 0.7152239542107157, 0.7152237203356966, 0.7152236423773569, 0.7152227068772804, 0.715220679960448, 0.715220446085429, 0.7152205240437687, 0.7152200562937304, 0.7152195885436922, 0.7152198224187113, 0.7152187310019554, 0.7152181852935775, 0.7152177955018789, 0.7152181852935775, 0.7152177955018789, 0.7152177175435392, 0.7152179514185584, 0.715215924501726, 0.7152156126683672, 0.7152142873765922, 0.715214599209951, 1.3113501732699973, 1.3093772036087314, 1.3079823729947213, 1.9043934518272867, 1.312853365976198, 1.3094579684486662, 1.3017266060250563, 2.504529691964338, 2.504382350702295, 1.9109388340289575, 2.4999483921732066, 5.8527766123921285, 2.5048872089102274, 2.5039415742496, 4.293355362262054, 1.9076931165136601, 3.1004783219257708, 2.4870679593703904, 1.3086786968849704, 1.3067271657671236, 1.3125568124519584, 1.9089727247015857, 2.46473694887844, 3.7055993742202684, 3.4820460392808807, 3.107760878187696, 14.607133939952607, 5.26579958408068, 2.5124313933602043, 3.114160322377438, 1.9073483847354826, 3.922370333605281, 2.511883346232075, 3.10148429634133, 2.5152269794220423, 2.5050958254272793, 3.3768431308485103, 2.302538074620687, 1.914917671770845, 2.5118318937278694, 3.1801710787730015, 1.9104272714038102, 1.9098279276881547], \"Total\": [36.0, 153.0, 23.0, 70.0, 25.0, 19.0, 35.0, 28.0, 78.0, 17.0, 21.0, 12.0, 18.0, 7.0, 19.0, 52.0, 8.0, 21.0, 32.0, 17.0, 6.0, 6.0, 7.0, 10.0, 24.0, 6.0, 6.0, 16.0, 7.0, 6.0, 7.9635795536492076, 7.15979571557546, 5.556771154838544, 36.49621820658168, 4.753561591134504, 4.75239114603954, 4.753346809288695, 4.753761103380168, 4.726878370237998, 8.560407578279804, 3.950828812603844, 3.950473207397785, 3.9499674768289506, 7.072688989281073, 3.147883938975362, 3.1478706802372467, 3.1474516408774913, 3.1478673791642895, 3.1478072393180154, 3.14702362556179, 3.1473961867716698, 3.1462816829122566, 3.1467656413833875, 3.147651206311357, 3.145418931448428, 3.147761352054006, 3.1435022962253965, 3.1383606127633494, 7.825916701664045, 3.1443878775552494, 23.528462079727092, 10.140235107607179, 35.11042105600082, 8.62517186522076, 32.783318003177904, 7.75419996190047, 16.24244234104941, 9.269507550948969, 353.84872524099, 18.296317595073177, 12.373382997131415, 18.306652808670076, 11.553441175032171, 10.926245166160843, 6.9407784076883186, 65.68218576273186, 29.614825591725246, 25.94791514226936, 13.641762555573198, 52.37808413665154, 41.70605763234287, 153.1103882337941, 9.527621308487978, 16.364354100604594, 12.799165014191637, 78.84200769837696, 39.42544291634131, 32.196049561637786, 22.54338645188441, 21.55550444883622, 21.051121199246957, 16.547623427441124, 70.92144920176175, 21.04462913990196, 3.9621042883516524, 3.955266045868365, 3.1583947661041147, 3.1584807183155683, 3.1582982968561364, 3.1582432030524004, 3.1578805303312003, 3.154822556066167, 3.15692424283411, 3.158055047425657, 7.156838945626861, 6.353157840196011, 7.849353064960195, 8.733560829934405, 3.8390542273526354, 2.352054668851542, 2.3520541185855413, 2.352050687721263, 2.352054837608562, 2.3520492417704375, 2.352054073006066, 2.352053073508105, 2.3520531917390457, 2.352043758609379, 2.3520513827017524, 2.35201542646066, 2.352018405197775, 2.352043235760259, 2.3520244541391637, 2.3518892201188115, 5.54578606335165, 11.163198344478184, 5.545309142333109, 5.488021858178523, 6.288483410697224, 4.647119162902404, 15.718251036380785, 4.675254180594678, 4.560680035763454, 4.743152417984207, 4.767458920089127, 26.720717144139286, 11.631491709758187, 4.55490697078581, 70.92144920176175, 6.142416723149597, 10.121846504102718, 153.1103882337941, 30.729026055620913, 353.84872524099, 9.522310631316516, 22.821920053850203, 17.411832598456655, 7.961180475143518, 16.481272868846606, 19.78935277868496, 65.68218576273186, 39.42544291634131, 9.81864924120517, 23.954176626912414, 19.369648293230213, 78.84200769837696, 14.05652429082838, 22.54338645188441, 10.17456352946054, 41.70605763234287, 11.608951229423704, 32.196049561637786, 16.452658426313143, 13.659466897412086, 29.614825591725246, 25.085783540008677, 21.051121199246957, 28.406609780841723, 52.37808413665154, 5.412027566747915, 3.8542392969378416, 3.0756579956844305, 3.075694622908859, 3.0754700825352628, 3.075725669367996, 3.0757315222825032, 3.074898533200129, 3.0757339823105774, 3.0724329034102222, 2.296798491662677, 2.29679505910525, 2.296794015847151, 2.296791997633891, 2.2967894636623103, 2.296787631226834, 2.2967470488928687, 2.296580763970101, 2.296838167633051, 2.296567723405559, 5.434031894169223, 2.2960422168488153, 2.2968735463098975, 2.2959711244383785, 2.296562423443683, 2.2962904935994195, 2.296899416302546, 2.296919045521501, 2.29687032097365, 2.295888721098826, 4.449339133576762, 6.927308971678167, 28.406609780841723, 7.813722339025443, 24.51432517338218, 4.663361741523743, 78.84200769837696, 6.224221728767024, 7.823940034941533, 353.84872524099, 3.6725848033241415, 3.6706432999367484, 52.37808413665154, 7.038814854542148, 6.179957441978368, 70.92144920176175, 41.70605763234287, 3.787162051843322, 13.216156498421515, 17.411832598456655, 153.1103882337941, 23.80482192228199, 14.125381741779313, 13.759047565170796, 39.42544291634131, 17.387912933247605, 13.416589802759905, 10.228164326336904, 7.856943761423583, 65.68218576273186, 8.453715258896974, 18.36763595113786, 29.614825591725246, 9.843434994547627, 23.954176626912414, 25.085783540008677, 32.196049561637786, 30.729026055620913, 21.177570802933893, 22.821920053850203, 19.369648293230213, 19.411598551543552, 16.364354100604594, 3.588995459775938, 2.8763022830677207, 2.876266228103123, 2.877209480587364, 2.8771812669394854, 2.877862454783659, 6.54448188397554, 6.544510211947439, 5.824738867719086, 5.83151980025747, 5.831101788152791, 2.1637447135504053, 2.163740918258742, 2.1637374076490787, 2.1637321193476238, 2.1639089088388532, 2.163947079376405, 2.1639931401964354, 2.1639504471886637, 2.1640586442641965, 2.1639793219338794, 2.1639599681774113, 2.1641159620272457, 2.1641150092754238, 2.1640333881898934, 2.1639573879617346, 2.164042294804044, 5.104479898094732, 2.164021010751478, 2.164215570874933, 8.060729043576913, 6.602242666361396, 4.400181304342879, 4.37954469895612, 8.121681593456533, 19.411598551543552, 3.472662082781725, 11.280493533121032, 21.177570802933893, 5.175830218978583, 3.6544871258931506, 3.6549598395237344, 153.1103882337941, 3.6789336172745077, 18.36763595113786, 3.6829742938493517, 3.679862175159131, 8.261127431708134, 353.84872524099, 21.55550444883622, 12.233360505620182, 7.494039745667375, 23.80482192228199, 12.030283828841362, 32.196049561637786, 13.742708417246325, 13.641762555573198, 9.119197372487012, 10.480986767187645, 65.68218576273186, 32.783318003177904, 78.84200769837696, 25.94791514226936, 52.37808413665154, 21.04462913990196, 1.9314945922873732, 1.9317858718697676, 1.9319167701517548, 1.9321464114113471, 1.9324520674135086, 1.9327759434234242, 1.9334387594393394, 1.9357226969900068, 1.335357336355632, 1.3353561855784621, 1.3353564940624345, 1.3353567616674356, 1.3353562722481658, 1.3353561787995294, 1.3353561974476218, 1.335356447118234, 1.3353559283394068, 1.3353559840601903, 1.3353565864223422, 1.3353558393659621, 1.3353558617362586, 1.3353551712239469, 1.3353559680130007, 1.3353558354179045, 1.3353559142021598, 1.3353564047187125, 1.3353546687879663, 1.335356768986801, 1.3353550870155961, 1.3353560480312874, 2.643956247433235, 2.6443076957933833, 2.644956246038328, 4.140842569583509, 2.737119000938117, 2.7382093772093357, 2.7374254937289093, 6.310602382730764, 6.992917852149224, 4.888882740207982, 7.1353539175340535, 25.085783540008677, 7.710970435391696, 7.961180475143518, 17.387912933247605, 5.670008269390953, 12.030283828841362, 9.273861831738511, 3.450682961089683, 3.4933232556027973, 3.531437408771688, 6.515881852617987, 10.228164326336904, 21.051121199246957, 19.369648293230213, 16.452658426313143, 353.84872524099, 52.37808413665154, 12.378106206724604, 23.528462079727092, 7.2751460444423826, 65.68218576273186, 17.192749627969725, 39.42544291634131, 21.177570802933893, 22.821920053850203, 78.84200769837696, 21.04462913990196, 9.676672867497892, 35.11042105600082, 153.1103882337941, 12.57083067044364, 25.94791514226936], \"Category\": [\"Default\", \"Default\", \"Default\", \"Default\", \"Default\", \"Default\", \"Default\", \"Default\", \"Default\", \"Default\", \"Default\", \"Default\", \"Default\", \"Default\", \"Default\", \"Default\", \"Default\", \"Default\", \"Default\", \"Default\", \"Default\", \"Default\", \"Default\", \"Default\", \"Default\", \"Default\", \"Default\", \"Default\", \"Default\", \"Default\", \"Topic1\", \"Topic1\", \"Topic1\", \"Topic1\", \"Topic1\", \"Topic1\", \"Topic1\", \"Topic1\", \"Topic1\", \"Topic1\", \"Topic1\", \"Topic1\", \"Topic1\", \"Topic1\", \"Topic1\", \"Topic1\", \"Topic1\", \"Topic1\", \"Topic1\", \"Topic1\", \"Topic1\", \"Topic1\", \"Topic1\", \"Topic1\", \"Topic1\", \"Topic1\", \"Topic1\", \"Topic1\", \"Topic1\", \"Topic1\", \"Topic1\", \"Topic1\", \"Topic1\", \"Topic1\", \"Topic1\", \"Topic1\", \"Topic1\", \"Topic1\", \"Topic1\", \"Topic1\", \"Topic1\", \"Topic1\", \"Topic1\", \"Topic1\", \"Topic1\", \"Topic1\", \"Topic1\", \"Topic1\", \"Topic1\", \"Topic1\", \"Topic1\", \"Topic1\", \"Topic1\", \"Topic1\", \"Topic1\", \"Topic1\", \"Topic1\", \"Topic1\", \"Topic1\", \"Topic1\", \"Topic1\", \"Topic1\", \"Topic1\", \"Topic1\", \"Topic2\", \"Topic2\", \"Topic2\", \"Topic2\", \"Topic2\", \"Topic2\", \"Topic2\", \"Topic2\", \"Topic2\", \"Topic2\", \"Topic2\", \"Topic2\", \"Topic2\", \"Topic2\", \"Topic2\", \"Topic2\", \"Topic2\", \"Topic2\", \"Topic2\", \"Topic2\", \"Topic2\", \"Topic2\", \"Topic2\", \"Topic2\", \"Topic2\", \"Topic2\", \"Topic2\", \"Topic2\", \"Topic2\", \"Topic2\", \"Topic2\", \"Topic2\", \"Topic2\", \"Topic2\", \"Topic2\", \"Topic2\", \"Topic2\", \"Topic2\", \"Topic2\", \"Topic2\", \"Topic2\", \"Topic2\", \"Topic2\", \"Topic2\", \"Topic2\", \"Topic2\", \"Topic2\", \"Topic2\", \"Topic2\", \"Topic2\", \"Topic2\", \"Topic2\", \"Topic2\", \"Topic2\", \"Topic2\", \"Topic2\", \"Topic2\", \"Topic2\", \"Topic2\", \"Topic2\", \"Topic2\", \"Topic2\", \"Topic2\", \"Topic2\", \"Topic2\", \"Topic2\", \"Topic2\", \"Topic2\", \"Topic2\", \"Topic2\", \"Topic2\", \"Topic2\", \"Topic2\", \"Topic2\", \"Topic2\", \"Topic3\", \"Topic3\", \"Topic3\", \"Topic3\", \"Topic3\", \"Topic3\", \"Topic3\", \"Topic3\", \"Topic3\", \"Topic3\", \"Topic3\", \"Topic3\", \"Topic3\", \"Topic3\", \"Topic3\", \"Topic3\", \"Topic3\", \"Topic3\", \"Topic3\", \"Topic3\", \"Topic3\", \"Topic3\", \"Topic3\", \"Topic3\", \"Topic3\", \"Topic3\", \"Topic3\", \"Topic3\", \"Topic3\", \"Topic3\", \"Topic3\", \"Topic3\", \"Topic3\", \"Topic3\", \"Topic3\", \"Topic3\", \"Topic3\", \"Topic3\", \"Topic3\", \"Topic3\", \"Topic3\", \"Topic3\", \"Topic3\", \"Topic3\", \"Topic3\", \"Topic3\", \"Topic3\", \"Topic3\", \"Topic3\", \"Topic3\", \"Topic3\", \"Topic3\", \"Topic3\", \"Topic3\", \"Topic3\", \"Topic3\", \"Topic3\", \"Topic3\", \"Topic3\", \"Topic3\", \"Topic3\", \"Topic3\", \"Topic3\", \"Topic3\", \"Topic3\", \"Topic3\", \"Topic3\", \"Topic3\", \"Topic3\", \"Topic3\", \"Topic3\", \"Topic3\", \"Topic3\", \"Topic4\", \"Topic4\", \"Topic4\", \"Topic4\", \"Topic4\", \"Topic4\", \"Topic4\", \"Topic4\", \"Topic4\", \"Topic4\", \"Topic4\", \"Topic4\", \"Topic4\", \"Topic4\", \"Topic4\", \"Topic4\", \"Topic4\", \"Topic4\", \"Topic4\", \"Topic4\", \"Topic4\", \"Topic4\", \"Topic4\", \"Topic4\", \"Topic4\", \"Topic4\", \"Topic4\", \"Topic4\", \"Topic4\", \"Topic4\", \"Topic4\", \"Topic4\", \"Topic4\", \"Topic4\", \"Topic4\", \"Topic4\", \"Topic4\", \"Topic4\", \"Topic4\", \"Topic4\", \"Topic4\", \"Topic4\", \"Topic4\", \"Topic4\", \"Topic4\", \"Topic4\", \"Topic4\", \"Topic4\", \"Topic4\", \"Topic4\", \"Topic4\", \"Topic4\", \"Topic4\", \"Topic4\", \"Topic4\", \"Topic4\", \"Topic4\", \"Topic4\", \"Topic4\", \"Topic4\", \"Topic4\", \"Topic4\", \"Topic4\", \"Topic4\", \"Topic4\", \"Topic5\", \"Topic5\", \"Topic5\", \"Topic5\", \"Topic5\", \"Topic5\", \"Topic5\", \"Topic5\", \"Topic5\", \"Topic5\", \"Topic5\", \"Topic5\", \"Topic5\", \"Topic5\", \"Topic5\", \"Topic5\", \"Topic5\", \"Topic5\", \"Topic5\", \"Topic5\", \"Topic5\", \"Topic5\", \"Topic5\", \"Topic5\", \"Topic5\", \"Topic5\", \"Topic5\", \"Topic5\", \"Topic5\", \"Topic5\", \"Topic5\", \"Topic5\", \"Topic5\", \"Topic5\", \"Topic5\", \"Topic5\", \"Topic5\", \"Topic5\", \"Topic5\", \"Topic5\", \"Topic5\", \"Topic5\", \"Topic5\", \"Topic5\", \"Topic5\", \"Topic5\", \"Topic5\", \"Topic5\", \"Topic5\", \"Topic5\", \"Topic5\", \"Topic5\", \"Topic5\", \"Topic5\", \"Topic5\", \"Topic5\", \"Topic5\", \"Topic5\", \"Topic5\", \"Topic5\", \"Topic5\", \"Topic5\", \"Topic5\", \"Topic5\", \"Topic5\", \"Topic5\", \"Topic5\", \"Topic5\", \"Topic5\", \"Topic5\", \"Topic5\", \"Topic5\", \"Topic5\"], \"logprob\": [30.0, 29.0, 28.0, 27.0, 26.0, 25.0, 24.0, 23.0, 22.0, 21.0, 20.0, 19.0, 18.0, 17.0, 16.0, 15.0, 14.0, 13.0, 12.0, 11.0, 10.0, 9.0, 8.0, 7.0, 6.0, 5.0, 4.0, 3.0, 2.0, 1.0, -5.6432, -5.7677, -6.034, -4.1688, -6.212, -6.2133, -6.2135, -6.2162, -6.2369, -5.6482, -6.4242, -6.4253, -6.4264, -5.8846, -6.6951, -6.6954, -6.6961, -6.6973, -6.6974, -6.6983, -6.699, -6.6994, -6.7001, -6.7005, -6.7036, -6.7058, -6.7113, -6.7278, -5.8232, -6.741, -4.7566, -5.6254, -4.4886, -5.8126, -4.6497, -5.9396, -5.3216, -5.7983, -2.8617, -5.2972, -5.6295, -5.3532, -5.7086, -5.7584, -6.1089, -4.4938, -5.151, -5.2425, -5.6514, -4.8499, -5.0735, -4.4824, -5.8873, -5.6399, -5.7624, -5.1026, -5.3607, -5.4473, -5.5976, -5.6219, -5.6382, -5.7424, -5.6979, -5.7363, -6.3895, -6.4092, -6.6539, -6.6539, -6.6546, -6.6562, -6.6579, -6.6592, -6.6599, -6.6651, -5.8528, -5.9986, -5.7891, -5.6956, -6.5351, -7.0281, -7.0281, -7.0281, -7.0281, -7.0281, -7.0281, -7.0281, -7.0281, -7.0281, -7.0281, -7.0281, -7.0281, -7.0283, -7.0287, -7.0289, -6.1777, -5.4952, -6.1941, -6.2079, -6.0775, -6.3787, -5.2372, -6.3861, -6.412, -6.3822, -6.3825, -4.8194, -5.5806, -6.4316, -3.989, -6.1745, -5.7502, -3.4799, -4.9167, -3.1808, -5.8583, -5.2277, -5.439, -5.9973, -5.4955, -5.3999, -4.6073, -4.9501, -5.8902, -5.3337, -5.4778, -4.6412, -5.6941, -5.4913, -5.9016, -5.2295, -5.8424, -5.4493, -5.7125, -5.7916, -5.552, -5.6055, -5.661, -5.6662, -5.6475, -5.9059, -6.295, -6.5658, -6.5665, -6.567, -6.5673, -6.5674, -6.5681, -6.5694, -6.5812, -6.9405, -6.9405, -6.9405, -6.9405, -6.9405, -6.9405, -6.9406, -6.941, -6.9413, -6.942, -6.0808, -6.9424, -6.9421, -6.9426, -6.9423, -6.943, -6.9428, -6.9429, -6.943, -6.9446, -6.296, -5.9054, -4.6244, -5.8316, -4.835, -6.3227, -3.8664, -6.0821, -5.9416, -2.9321, -6.5684, -6.5695, -4.5509, -6.0863, -6.1856, -4.3704, -4.7815, -6.5689, -5.6665, -5.4749, -3.9733, -5.2654, -5.6317, -5.6557, -5.0735, -5.6243, -5.7701, -5.9222, -6.0781, -5.071, -6.076, -5.7624, -5.5872, -6.018, -5.7115, -5.7017, -5.624, -5.6653, -5.7843, -5.8057, -5.8384, -5.8485, -5.9008, -6.0039, -6.2755, -6.2755, -6.2786, -6.2802, -6.2809, -5.4894, -5.4895, -5.6236, -5.6348, -5.6413, -6.6489, -6.6489, -6.6489, -6.6489, -6.6497, -6.6499, -6.6501, -6.6503, -6.6505, -6.6505, -6.6506, -6.6508, -6.6508, -6.6509, -6.651, -6.6511, -5.7929, -6.6511, -6.6522, -5.3672, -5.5848, -6.0283, -6.0394, -5.5119, -4.8008, -6.2753, -5.4148, -4.9598, -6.0214, -6.2737, -6.2764, -3.6478, -6.2777, -5.1556, -6.2778, -6.2791, -5.7284, -3.3359, -5.1885, -5.5666, -5.8586, -5.2781, -5.649, -5.1785, -5.5993, -5.612, -5.792, -5.7807, -5.0871, -5.4664, -5.2294, -5.5462, -5.467, -5.6773, -6.2357, -6.2366, -6.237, -6.2372, -6.2379, -6.2385, -6.2404, -6.2545, -6.8419, -6.8419, -6.8419, -6.8419, -6.8419, -6.8419, -6.8419, -6.8419, -6.8419, -6.8419, -6.8419, -6.8419, -6.8419, -6.8419, -6.8419, -6.8419, -6.8419, -6.8419, -6.8419, -6.8419, -6.8419, -6.8419, -6.2357, -6.2372, -6.2383, -5.8626, -6.2346, -6.2372, -6.2431, -5.5887, -5.5887, -5.8592, -5.5905, -4.7398, -5.5885, -5.5889, -5.0497, -5.8609, -5.3752, -5.5957, -6.2377, -6.2392, -6.2348, -5.8602, -5.6047, -5.1969, -5.2591, -5.3729, -3.8253, -4.8455, -5.5855, -5.3708, -5.8611, -5.1401, -5.5857, -5.3749, -5.5844, -5.5884, -5.2898, -5.6728, -5.8571, -5.5858, -5.3498, -5.8594, -5.8598], \"loglift\": [30.0, 29.0, 28.0, 27.0, 26.0, 25.0, 24.0, 23.0, 22.0, 21.0, 20.0, 19.0, 18.0, 17.0, 16.0, 15.0, 14.0, 13.0, 12.0, 11.0, 10.0, 9.0, 8.0, 7.0, 6.0, 5.0, 4.0, 3.0, 2.0, 1.0, 1.2344, 1.2163, 1.2035, 1.1865, 1.1816, 1.1805, 1.1801, 1.1773, 1.1623, 1.1571, 1.1543, 1.1533, 1.1523, 1.1116, 1.1107, 1.1104, 1.1098, 1.1084, 1.1083, 1.1077, 1.1069, 1.1069, 1.106, 1.1053, 1.1029, 1.1, 1.0958, 1.081, 1.0718, 1.0659, 1.0377, 1.0106, 0.9053, 0.9852, 0.8128, 0.9647, 0.8432, 0.9274, 0.2219, 0.7486, 0.8074, 0.692, 0.7969, 0.8029, 0.9061, 0.2738, 0.4132, 0.4539, 0.688, 0.144, 0.1483, -0.561, 0.811, 0.5174, 0.6407, -0.5175, -0.0827, 0.0333, 0.2395, 0.2599, 0.2673, 0.4038, -1.007, 0.1695, 1.1862, 1.1683, 1.1485, 1.1485, 1.1479, 1.1463, 1.1447, 1.1444, 1.143, 1.1375, 1.1316, 1.1049, 1.1029, 1.0897, 1.0721, 1.0691, 1.0691, 1.0691, 1.0691, 1.0691, 1.0691, 1.0691, 1.0691, 1.0691, 1.0691, 1.0691, 1.0691, 1.0689, 1.0685, 1.0684, 1.0617, 1.0447, 1.0454, 1.042, 1.0363, 1.0375, 0.9605, 1.0241, 1.0231, 1.0136, 1.0081, 0.8476, 0.9181, 1.0046, 0.7019, 0.9628, 0.8875, 0.4414, 0.6105, -0.0971, 0.8405, 0.597, 0.6563, 0.8806, 0.6547, 0.5674, 0.1603, 0.3279, 0.778, 0.4426, 0.511, -0.0562, 0.6153, 0.3457, 0.731, -0.0077, 0.6583, 0.0313, 0.4395, 0.5464, 0.0122, 0.1247, 0.2445, -0.0603, -0.6535, 1.358, 1.3083, 1.2632, 1.2624, 1.262, 1.2617, 1.2615, 1.2611, 1.2595, 1.2488, 1.1805, 1.1805, 1.1805, 1.1805, 1.1804, 1.1804, 1.1804, 1.18, 1.1796, 1.1791, 1.179, 1.1789, 1.1789, 1.1788, 1.1787, 1.1782, 1.1781, 1.178, 1.1779, 1.1768, 1.1638, 1.1116, 0.9814, 1.065, 0.9182, 1.09, 0.7186, 1.0419, 0.9537, 0.1515, 1.0832, 1.0826, 0.4431, 0.9148, 0.9456, 0.3205, 0.4403, 1.052, 0.7045, 0.6205, -0.052, 0.5171, 0.6728, 0.6751, 0.2046, 0.4724, 0.5859, 0.7052, 0.813, -0.3033, 0.7419, 0.2794, -0.023, 0.6477, 0.0648, 0.0285, -0.1433, -0.138, 0.1153, 0.019, 0.1504, 0.1381, 0.2566, 1.6707, 1.6205, 1.6205, 1.6171, 1.6154, 1.6145, 1.5844, 1.5843, 1.5668, 1.5544, 1.548, 1.5318, 1.5318, 1.5317, 1.5317, 1.5309, 1.5306, 1.5304, 1.5302, 1.53, 1.53, 1.5299, 1.5297, 1.5297, 1.5296, 1.5295, 1.5294, 1.5294, 1.5294, 1.5282, 1.4983, 1.4803, 1.4425, 1.4361, 1.346, 1.1858, 1.4323, 1.1146, 0.9397, 1.2871, 1.3828, 1.38, 0.2735, 1.3721, 0.8863, 1.3709, 1.3705, 1.1125, -0.2523, 0.6933, 0.8817, 1.0798, 0.5045, 0.8161, 0.3021, 0.7327, 0.7273, 0.9501, 0.8222, -0.3194, -0.0039, -0.6444, 0.1502, -0.473, 0.2285, 2.0585, 2.0575, 2.0569, 2.0567, 2.0558, 2.055, 2.0528, 2.0375, 1.8214, 1.8214, 1.8214, 1.8214, 1.8214, 1.8213, 1.8213, 1.8213, 1.8213, 1.8213, 1.8213, 1.8213, 1.8213, 1.8213, 1.8213, 1.8213, 1.8213, 1.8213, 1.8213, 1.8213, 1.8213, 1.8213, 1.7445, 1.7429, 1.7415, 1.669, 1.711, 1.708, 1.7024, 1.5216, 1.4189, 1.5063, 1.3969, 0.9903, 1.3213, 1.289, 1.047, 1.3564, 1.0898, 1.1296, 1.4762, 1.4624, 1.456, 1.218, 1.0227, 0.7086, 0.7296, 0.7791, -0.7416, 0.1485, 0.851, 0.4235, 1.107, -0.3724, 0.5223, -0.0968, 0.3151, 0.2363, -0.7048, 0.2331, 0.8257, -0.1918, -1.4285, 0.5617, -0.1634]}, \"token.table\": {\"Topic\": [1, 2, 3, 5, 1, 1, 1, 3, 5, 5, 1, 2, 3, 4, 5, 1, 4, 5, 1, 2, 3, 4, 5, 1, 3, 4, 2, 4, 1, 2, 4, 1, 2, 3, 4, 1, 1, 2, 4, 5, 1, 2, 3, 5, 4, 1, 2, 5, 1, 4, 1, 2, 3, 4, 1, 3, 4, 2, 5, 2, 3, 4, 1, 2, 3, 1, 2, 3, 1, 4, 4, 5, 1, 4, 3, 5, 5, 1, 2, 3, 5, 1, 4, 2, 3, 4, 5, 1, 1, 2, 3, 4, 5, 2, 3, 4, 5, 3, 4, 3, 5, 3, 1, 3, 3, 2, 5, 1, 2, 5, 5, 1, 2, 3, 4, 2, 3, 1, 4, 1, 2, 3, 4, 4, 4, 1, 2, 3, 4, 4, 5, 2, 3, 2, 1, 2, 3, 3, 4, 2, 4, 1, 4, 5, 3, 1, 2, 3, 4, 5, 1, 2, 3, 4, 5, 1, 2, 3, 4, 5, 1, 2, 3, 4, 5, 4, 5, 2, 3, 3, 2, 1, 4, 4, 4, 1, 1, 2, 4, 4, 2, 3, 5, 4, 4, 1, 3, 1, 2, 3, 4, 2, 3, 1, 3, 4, 1, 1, 1, 5, 1, 3, 4, 5, 2, 1, 4, 1, 5, 1, 2, 3, 4, 5, 1, 2, 3, 4, 2, 3, 4, 5, 2, 1, 3, 5, 1, 2, 3, 5, 3, 3, 2, 5, 5, 2, 2, 3, 5, 2, 3, 4, 2, 4, 1, 2, 3, 2, 3, 2, 3, 4, 2, 3, 2, 4, 5, 1, 2, 3, 4, 5, 1, 4, 1, 2, 3, 4, 5, 1, 2, 3, 5, 5, 1, 1, 2, 3, 4, 5, 2, 5, 1, 4, 1, 2, 3, 4, 1, 2, 3, 4, 5, 1, 3, 5, 1, 2, 3, 4, 5, 2, 4, 3, 5, 3, 2, 3, 5, 3, 5, 1, 2, 3, 4, 1, 1, 4, 5, 2, 1, 2, 3, 5, 1, 5, 5, 3, 1, 1, 4, 2, 3, 5, 5, 2, 2, 4, 1, 2, 3, 5, 1, 2, 3, 4, 5, 3, 2, 5, 4, 2, 1, 2, 3, 4, 5, 5, 1, 2, 3, 4, 5, 3, 1, 2, 4, 5, 1, 2, 2, 1, 2, 4, 5, 3, 3, 5, 5, 4, 5, 1, 2, 3, 1, 4, 1, 5, 5, 1, 2, 3, 4, 5, 1, 2, 4, 1, 2, 3, 2, 2, 4, 1, 1, 2, 4, 5, 2, 4, 3, 2, 3, 2, 3, 1, 2, 3, 1, 1, 5, 3, 1, 4, 5, 5, 2, 3, 3, 3, 1, 2, 4, 2, 3, 4, 1, 1, 3, 4, 1, 4, 1, 2, 3, 4, 5, 4, 5, 3, 1, 1, 3, 4, 5, 3, 4, 2, 5, 4, 5, 1, 2, 3, 4, 5, 4, 1, 2, 3, 4, 5, 5, 1, 2, 5, 3, 2, 4, 5, 2, 4, 4, 1, 2, 3, 4, 5, 1, 2, 3, 2, 5, 1, 2, 3, 4, 5, 2, 3, 1, 1, 2, 3, 2, 1, 2, 3, 1, 2, 3, 4, 5, 1, 2, 3, 4, 5, 2, 3, 4, 5, 1, 3, 4, 3, 3, 1, 2, 3, 5, 1, 2, 3, 4, 5, 1, 3, 4, 2, 3, 1, 2, 3, 4, 5, 1, 5, 1, 2, 3, 4, 5, 2, 3, 5, 1, 4, 2, 4, 4, 1, 4, 2, 2, 5, 3, 4, 1, 3, 3, 5, 1, 2, 3, 4, 1, 2, 3, 4, 5, 1, 3, 1, 2, 3, 4, 5, 1, 2, 3, 4, 1, 2, 3, 4, 5, 1, 2, 3, 5, 1, 2, 3, 4, 5, 1, 3, 4, 1, 2, 4, 5, 2, 1, 5, 1, 3, 4], \"Freq\": [0.1422826837289331, 0.4979893930512659, 0.2845653674578662, 0.07114134186446655, 0.9530443803954023, 0.8414390022998409, 0.4753904331240437, 0.15846347770801456, 0.4753904331240437, 0.5177337819081076, 0.33630190392505893, 0.23456351282167975, 0.2656502434366012, 0.12152085604014735, 0.042390996293074655, 0.4290054685939105, 0.14300182286463684, 0.4290054685939105, 0.1669854932732698, 0.41746373318317453, 0.25047823990990475, 0.12523911995495238, 0.04174637331831745, 0.3631465589654628, 0.1210488529884876, 0.4841954119539504, 0.7814424653409398, 0.9241893722709265, 0.12739903425468746, 0.7643942055281249, 0.12739903425468746, 0.42302147076853436, 0.30215819340609595, 0.18129491604365758, 0.12086327736243839, 0.9531520551539332, 0.3324942334619249, 0.08312355836548123, 0.3324942334619249, 0.2493706750964437, 0.10501652789095624, 0.6300991673457373, 0.21003305578191248, 0.51762064259189, 0.9243288400243419, 0.9533598436905311, 0.2831708124052019, 0.2831708124052019, 0.7594026949435075, 0.9243265809103051, 0.1415890937718522, 0.3539727344296305, 0.4247672813155566, 0.0707945468859261, 0.2462544212040223, 0.12312721060201115, 0.6156360530100558, 0.8503334819065012, 0.748863696283672, 0.5927772168416111, 0.09879620280693517, 0.19759240561387034, 0.9530582736338676, 0.8503215596007268, 0.870779001599897, 0.1279799763302984, 0.1279799763302984, 0.639899881651492, 0.17149417662914535, 0.6859767065165814, 0.5759270416538569, 0.28796352082692844, 0.2717493080992242, 0.5434986161984484, 0.5448636210536892, 0.2724318105268446, 0.7488637463873519, 0.3069423364692269, 0.15347116823461346, 0.15347116823461346, 0.3069423364692269, 0.15279982269329084, 0.7639991134664542, 0.21777435107277393, 0.32666152660916087, 0.38110511437735434, 0.10888717553638697, 0.8380127364454779, 0.3548712620029311, 0.3548712620029311, 0.17743563100146556, 0.08871781550073278, 0.04435890775036639, 0.6110820187791475, 0.20369400625971582, 0.10184700312985791, 0.10184700312985791, 0.273600817493608, 0.547201634987216, 0.5445755801716964, 0.2722877900858482, 0.650267358336419, 0.4262081134388838, 0.5682774845851783, 0.870796808453106, 0.6280475635002941, 0.37682853810017647, 0.644811847072171, 0.1289623694144342, 0.1289623694144342, 0.7488635462116643, 0.29106344095754993, 0.14553172047877497, 0.21829758071816244, 0.29106344095754993, 0.7870101964672324, 0.15740203929344646, 0.3029273689363243, 0.7573184223408107, 0.17729720726559822, 0.17729720726559822, 0.17729720726559822, 0.4432430181639956, 0.9241653014872016, 0.9241648946235259, 0.30337462644958385, 0.48539940231933415, 0.06067492528991677, 0.12134985057983354, 0.3780780878692498, 0.3780780878692498, 0.32362682409666355, 0.6472536481933271, 0.9498786112085387, 0.6297479513228252, 0.2099159837742751, 0.2099159837742751, 0.6502518134338976, 0.9243234599142137, 0.8503203715824161, 0.9241963545731446, 0.9530916239971883, 0.9242054444311888, 0.7488639822914259, 0.8711223595552958, 0.16488671939625935, 0.24098828219453286, 0.4692929705893535, 0.07610156279827354, 0.03805078139913677, 0.0516271635324171, 0.4130173082593368, 0.2581358176620855, 0.0516271635324171, 0.15488149059725131, 0.2180383479154547, 0.14535889861030313, 0.4360766958309094, 0.14535889861030313, 0.07267944930515156, 0.3047716576237593, 0.10159055254125308, 0.40636221016501234, 0.10159055254125308, 0.10159055254125308, 0.3781708163504647, 0.3781708163504647, 0.9498237499451677, 0.8708598588723692, 0.8707500731483152, 0.8503245049207325, 0.19590634500750095, 0.7836253800300038, 0.6953459246778368, 0.9242326171144393, 0.9537680243497917, 0.16348737528671467, 0.40871843821678666, 0.40871843821678666, 0.6953372083920538, 0.4539897814252287, 0.4539897814252287, 0.07566496357087145, 0.9242533231554528, 0.9242370199627755, 0.879001704301722, 0.8707814221951795, 0.35372556537269245, 0.4547900126220331, 0.1010644472493407, 0.1010644472493407, 0.21443757860252383, 0.6433127358075714, 0.6903192998699427, 0.09861704283856323, 0.09861704283856323, 0.9532816899219992, 0.9531688487800908, 0.7593343428167447, 0.748863542106989, 0.25937072600102706, 0.25937072600102706, 0.25937072600102706, 0.3890560890015406, 0.8503218108524948, 0.15280048409157418, 0.7640024204578709, 0.9530261725309578, 0.7488640508903585, 0.11227243579643208, 0.5987863242476378, 0.1871207263273868, 0.07484829053095472, 0.03742414526547736, 0.12602488730200978, 0.25204977460401956, 0.37807466190602934, 0.25204977460401956, 0.24236340760836272, 0.32315121014448367, 0.16157560507224183, 0.24236340760836272, 0.6455612380136, 0.20454571179947306, 0.4090914235989461, 0.4090914235989461, 0.09776925439348491, 0.19553850878696982, 0.4888462719674246, 0.19553850878696982, 0.870866813627043, 0.6502530508226251, 0.7571734062679317, 0.5175591218625841, 0.7488639912906461, 0.8503203105729832, 0.3548735565516829, 0.47316474206891057, 0.11829118551722764, 0.8503209055919577, 0.5280999261773184, 0.2640499630886592, 0.9500042738112573, 0.9241223595815156, 0.08958006201642423, 0.7166404961313938, 0.17916012403284845, 0.8503243158972854, 0.8707786060716838, 0.2668787553677288, 0.2668787553677288, 0.40031813305159325, 0.7213303888621541, 0.18033259721553851, 0.7288600707810595, 0.18221501769526488, 0.7488639464166115, 0.42775901553862, 0.18332529237369427, 0.30554215395615714, 0.061108430791231426, 0.061108430791231426, 0.8483336407260699, 0.14138894012101164, 0.2431218041701213, 0.4254631572977123, 0.12156090208506065, 0.060780451042530326, 0.18234135312759098, 0.565730487904791, 0.24245592338776756, 0.08081864112925585, 0.08081864112925585, 0.7488640656496224, 0.8416815613616835, 0.42392615898766034, 0.19269370863075472, 0.15415496690460376, 0.19269370863075472, 0.07707748345230188, 0.6577966392018121, 0.219265546400604, 0.2718178972581836, 0.5436357945163672, 0.22779765252988124, 0.48813782684974555, 0.1952551307398982, 0.0976275653699491, 0.09870074679503467, 0.5217039473451832, 0.31020234707010896, 0.04230032005501486, 0.014100106685004953, 0.4123628559033196, 0.2749085706022131, 0.2749085706022131, 0.2300448602058249, 0.057511215051456226, 0.34506729030873734, 0.11502243010291245, 0.2300448602058249, 0.9509251143876633, 0.9242355815487074, 0.5725207356039217, 0.28626036780196085, 0.8710641230041859, 0.17636658581230175, 0.3527331716246035, 0.3527331716246035, 0.6742574368765506, 0.2247524789588502, 0.3711349005535298, 0.27835117541514737, 0.09278372513838246, 0.32474303798433857, 0.9530211590254822, 0.7650308778791539, 0.08500343087546154, 0.12750514631319232, 0.8503345588211653, 0.23917929413808234, 0.27904250982776274, 0.23917929413808234, 0.23917929413808234, 0.8414743184268585, 0.748864485351918, 0.7488640214676203, 0.8707622627418499, 0.7594999243913805, 0.22726336276485307, 0.6817900882945592, 0.8015058389480039, 0.11450083413542912, 0.5166029212526005, 0.748864719893217, 0.8503205869939378, 0.17168151615208646, 0.6867260646083458, 0.3100239143224972, 0.3100239143224972, 0.20668260954833148, 0.20668260954833148, 0.6100663757726191, 0.09150995636589286, 0.15251659394315478, 0.15251659394315478, 0.748864063435562, 0.8707316019254446, 0.6586303560624515, 0.21954345202081715, 0.6951247816678021, 0.8503312950170818, 0.6156709557605797, 0.061567095576057974, 0.12313419115211595, 0.12313419115211595, 0.061567095576057974, 0.517655716692919, 0.25364331407054747, 0.35510063969876643, 0.2790076454776022, 0.025364331407054748, 0.07609299422116424, 0.6502596145609821, 0.6058800918229895, 0.17310859766371128, 0.17310859766371128, 0.08655429883185564, 0.9535064887207252, 0.9498951813148967, 0.9502920467001031, 0.23864771379456712, 0.3181969517260895, 0.23864771379456712, 0.15909847586304476, 0.8707797667617965, 0.870864803862269, 0.7488638730821533, 0.7488636444885316, 0.9242001583316146, 0.748863722609832, 0.5465580682034507, 0.21862322728138028, 0.21862322728138028, 0.766683345699834, 0.127780557616639, 0.9543495494189049, 0.7488644381280448, 0.7488640135394902, 0.3325238562709147, 0.3325238562709147, 0.09500681607740419, 0.047503408038702094, 0.19001363215480838, 0.1590208536288604, 0.7951042681443019, 0.1590208536288604, 0.05743220849071554, 0.5168898764164399, 0.4020254594350088, 0.850322333598151, 0.6416763418878777, 0.21389211396262592, 0.8415123407750195, 0.5469106767698082, 0.46878058008840706, 0.37822108477430544, 0.37822108477430544, 0.9498495983453344, 0.9242232491448503, 0.6504279664534317, 0.9499517756808901, 0.8710910946187198, 0.8503209483351432, 0.8709699428598922, 0.20975534698079898, 0.6292660409423969, 0.8707488504158849, 0.9530251731223908, 0.6360538450984594, 0.5172131752908383, 0.8707390431660771, 0.7203802954523785, 0.2881521181809514, 0.517390545656706, 0.7488632239286102, 0.8383589522670843, 0.13972649204451407, 0.6509499354013935, 0.8707773046960591, 0.08597349548562672, 0.6877879638850137, 0.25792048645688015, 0.3818278571280541, 0.5091038095040722, 0.6949602461631017, 0.8998031159959257, 0.695638312344102, 0.115939718724017, 0.115939718724017, 0.6472835765030202, 0.3236417882515101, 0.19086092931435752, 0.6998234074859776, 0.06362030977145251, 0.06362030977145251, 0.06362030977145251, 0.9242315150979867, 0.7488638206764326, 0.6502512933506506, 0.637275395270458, 0.3816434548436432, 0.0954108637109108, 0.3816434548436432, 0.0954108637109108, 0.22833423762939412, 0.6850027128881824, 0.3653476519132932, 0.3653476519132932, 0.8358884912569076, 0.5174772595205689, 0.27953740047423936, 0.27953740047423936, 0.18635826698282623, 0.2174179781466306, 0.031059711163804373, 0.9243250812160488, 0.0944395378776363, 0.14165930681645444, 0.23609884469409076, 0.3777581515105452, 0.14165930681645444, 0.7488638626243573, 0.42044165358468816, 0.14014721786156273, 0.28029443572312546, 0.7783637104171173, 0.28979770418671336, 0.28979770418671336, 0.28979770418671336, 0.2715196795345604, 0.5430393590691208, 0.9242173474812637, 0.15021841604163277, 0.4049365997644014, 0.21553077084234268, 0.2089995353622717, 0.019593706440212973, 0.29813835399343924, 0.29813835399343924, 0.4472075309901589, 0.4829934889799885, 0.4829934889799885, 0.08763504539849562, 0.4819927496917259, 0.21908761349623904, 0.08763504539849562, 0.13145256809774342, 0.7212683566056208, 0.1803170891514052, 0.8462244396186146, 0.2556256810594211, 0.12781284052971054, 0.6390642026485527, 0.758482480118821, 0.5462495030912464, 0.21849980123649856, 0.21849980123649856, 0.3501710506876923, 0.3044965658153846, 0.16747311119846153, 0.10657379803538461, 0.060899313163076924, 0.3326264365822229, 0.19007224947555595, 0.19007224947555595, 0.19007224947555595, 0.09503612473777798, 0.2464215213996079, 0.5984522662561906, 0.10560922345697482, 0.03520307448565827, 0.19320571921645133, 0.19320571921645133, 0.5796171576493541, 0.6503070900794784, 0.8707807274642103, 0.6406592469368497, 0.18304549912481421, 0.18304549912481421, 0.09152274956240711, 0.23265621186576635, 0.29082026483220796, 0.23265621186576635, 0.11632810593288317, 0.17449215889932476, 0.2060623698444419, 0.25757796230555235, 0.5151559246111047, 0.6324907436297337, 0.21083024787657786, 0.4052024538463921, 0.27013496923092806, 0.23636809807706205, 0.06753374230773201, 0.03376687115386601, 0.36530674617112746, 0.36530674617112746, 0.30547127226450055, 0.133643681615719, 0.3627471358140944, 0.09545977258265642, 0.09545977258265642, 0.6512094799632795, 0.16280236999081987, 0.16280236999081987, 0.24811651516728178, 0.7443495455018454, 0.17148188366879052, 0.6859275346751621, 0.6951179653390106, 0.5482938679543446, 0.4386350943634757, 0.8503801892076214, 0.3652021676367045, 0.3652021676367045, 0.27363620818765416, 0.5472724163753083, 0.3213253137748013, 0.6426506275496026, 0.9238681692459482, 0.7488638692805475, 0.31170531903544285, 0.26375065456845165, 0.35965998350243406, 0.0719319967004868, 0.20396237565735784, 0.08158495026294314, 0.5710946518406019, 0.08158495026294314, 0.04079247513147157, 0.18402541970226768, 0.7361016788090707, 0.07320929927283322, 0.4392557956369993, 0.21962789781849965, 0.14641859854566644, 0.07320929927283322, 0.19656862864033253, 0.49142157160083133, 0.09828431432016627, 0.19656862864033253, 0.3234898313594574, 0.10782994378648582, 0.10782994378648582, 0.21565988757297164, 0.21565988757297164, 0.6550761656579167, 0.1139262896796377, 0.14240786209954712, 0.08544471725972827, 0.08614042562823673, 0.5168425537694205, 0.2584212768847102, 0.08614042562823673, 0.08614042562823673, 0.14435620008988082, 0.7217810004494041, 0.14435620008988082, 0.5131301744539032, 0.0733043106362719, 0.2932172425450876, 0.0733043106362719, 0.8503205705159299, 0.8177180742843363, 0.11681686775490518, 0.8768031750267529, 0.027400099219586027, 0.08220029765875808], \"Term\": [\"access\", \"access\", \"access\", \"access\", \"act\", \"activity\", \"actually\", \"actually\", \"actually\", \"adopting\", \"ai\", \"ai\", \"ai\", \"ai\", \"ai\", \"already\", \"already\", \"already\", \"also\", \"also\", \"also\", \"also\", \"also\", \"always\", \"always\", \"always\", \"amount\", \"analytical\", \"analyze\", \"analyze\", \"analyze\", \"answer\", \"answer\", \"answer\", \"answer\", \"aralan\", \"assignment\", \"assignment\", \"assignment\", \"assignment\", \"assist\", \"assist\", \"assist\", \"assistant\", \"attending\", \"attention\", \"authority\", \"authority\", \"autopilot\", \"awareness\", \"ba\", \"ba\", \"ba\", \"ba\", \"baka\", \"baka\", \"baka\", \"banned\", \"banning\", \"based\", \"based\", \"based\", \"basta\", \"behavior\", \"belief\", \"better\", \"better\", \"better\", \"bias\", \"bias\", \"biased\", \"biased\", \"book\", \"book\", \"buhay\", \"buhay\", \"bussy\", \"certain\", \"certain\", \"certain\", \"certain\", \"chat\", \"chat\", \"chatgpt\", \"chatgpt\", \"chatgpt\", \"chatgpt\", \"cheat\", \"cheating\", \"cheating\", \"cheating\", \"cheating\", \"cheating\", \"classroom\", \"classroom\", \"classroom\", \"classroom\", \"coding\", \"coding\", \"collaboration\", \"collaboration\", \"collaborative\", \"concern\", \"concern\", \"considered\", \"content\", \"content\", \"copy\", \"copy\", \"copy\", \"correctly\", \"could\", \"could\", \"could\", \"could\", \"creating\", \"creating\", \"creativity\", \"creativity\", \"critical\", \"critical\", \"critical\", \"critical\", \"dami\", \"daming\", \"data\", \"data\", \"data\", \"data\", \"day\", \"day\", \"designed\", \"designed\", \"determine\", \"di\", \"di\", \"di\", \"discussion\", \"district\", \"dominated\", \"doubling\", \"drawing\", \"dropout\", \"economic\", \"educating\", \"education\", \"education\", \"education\", \"education\", \"education\", \"educational\", \"educational\", \"educational\", \"educational\", \"educational\", \"educator\", \"educator\", \"educator\", \"educator\", \"educator\", \"effective\", \"effective\", \"effective\", \"effective\", \"effective\", \"efficiency\", \"efficiency\", \"either\", \"emotional\", \"empower\", \"enable\", \"engagement\", \"engagement\", \"engineering\", \"enter\", \"epekto\", \"estudyante\", \"estudyante\", \"estudyante\", \"eventually\", \"experience\", \"experience\", \"experience\", \"experiment\", \"explore\", \"focus\", \"form\", \"future\", \"future\", \"future\", \"future\", \"game\", \"game\", \"gamitin\", \"gamitin\", \"gamitin\", \"ganito\", \"gatsby\", \"ginagamit\", \"gobyerno\", \"going\", \"going\", \"going\", \"going\", \"gold\", \"gpt\", \"gpt\", \"growth\", \"halo\", \"help\", \"help\", \"help\", \"help\", \"help\", \"human\", \"human\", \"human\", \"human\", \"idea\", \"idea\", \"idea\", \"idea\", \"identify\", \"image\", \"image\", \"image\", \"impact\", \"impact\", \"impact\", \"impact\", \"impairment\", \"implemented\", \"implementing\", \"improves\", \"inaccurate\", \"independently\", \"individual\", \"individual\", \"individual\", \"individualized\", \"inequality\", \"inequality\", \"inspiration\", \"instance\", \"instead\", \"instead\", \"instead\", \"instructional\", \"integrate\", \"interaction\", \"interaction\", \"interaction\", \"interactive\", \"interactive\", \"interest\", \"interest\", \"istudiyante\", \"kasi\", \"kasi\", \"kasi\", \"kasi\", \"kasi\", \"kayo\", \"kayo\", \"kid\", \"kid\", \"kid\", \"kid\", \"kid\", \"know\", \"know\", \"know\", \"know\", \"labanan\", \"lalo\", \"lang\", \"lang\", \"lang\", \"lang\", \"lang\", \"large\", \"large\", \"leading\", \"leading\", \"learn\", \"learn\", \"learn\", \"learn\", \"learning\", \"learning\", \"learning\", \"learning\", \"learning\", \"life\", \"life\", \"life\", \"like\", \"like\", \"like\", \"like\", \"like\", \"limited\", \"limiting\", \"literally\", \"literally\", \"lng\", \"lot\", \"lot\", \"lot\", \"love\", \"love\", \"ma\", \"ma\", \"ma\", \"ma\", \"maayos\", \"mag\", \"mag\", \"mag\", \"makakatulong\", \"make\", \"make\", \"make\", \"make\", \"mali\", \"manager\", \"mangdaya\", \"manipulatives\", \"maraming\", \"masyadong\", \"masyadong\", \"material\", \"material\", \"mawalan\", \"medium\", \"meet\", \"method\", \"method\", \"might\", \"might\", \"might\", \"might\", \"mo\", \"mo\", \"mo\", \"mo\", \"money\", \"mr\", \"much\", \"much\", \"nagiging\", \"naka\", \"naman\", \"naman\", \"naman\", \"naman\", \"naman\", \"narrow\", \"need\", \"need\", \"need\", \"need\", \"need\", \"needed\", \"nga\", \"nga\", \"nga\", \"nga\", \"nsa\", \"nun\", \"ofc\", \"one\", \"one\", \"one\", \"one\", \"opinion\", \"opt\", \"optimised\", \"organization\", \"overused\", \"pabagsakin\", \"pag\", \"pag\", \"pag\", \"paggamit\", \"paggamit\", \"palang\", \"pautakan\", \"pautakang\", \"people\", \"people\", \"people\", \"people\", \"people\", \"personalize\", \"personalize\", \"personalize\", \"personalized\", \"personalized\", \"personalized\", \"phd\", \"pilipinas\", \"pilipinas\", \"pinagawa\", \"point\", \"point\", \"policy\", \"policy\", \"pop\", \"potentially\", \"power\", \"powerful\", \"pra\", \"preference\", \"preparation\", \"presentation\", \"presentation\", \"privilege\", \"probinsya\", \"problema\", \"procrastination\", \"product\", \"prof\", \"prof\", \"profit\", \"programme\", \"project\", \"project\", \"promising\", \"promoting\", \"provide\", \"provide\", \"provide\", \"providing\", \"providing\", \"public\", \"puro\", \"pwede\", \"pwede\", \"pwede\", \"pwedeng\", \"pwedeng\", \"question\", \"question\", \"question\", \"question\", \"question\", \"rate\", \"redesign\", \"reliance\", \"rephrase\", \"rin\", \"rin\", \"rin\", \"rin\", \"risk\", \"risk\", \"robot\", \"robot\", \"ruler\", \"saw\", \"school\", \"school\", \"school\", \"school\", \"school\", \"script\", \"skill\", \"skill\", \"skill\", \"skill\", \"skill\", \"smythos\", \"something\", \"something\", \"something\", \"speech\", \"start\", \"start\", \"start\", \"step\", \"step\", \"straight\", \"student\", \"student\", \"student\", \"student\", \"student\", \"support\", \"support\", \"support\", \"sure\", \"sure\", \"system\", \"system\", \"system\", \"system\", \"system\", \"tailored\", \"tailored\", \"tama\", \"tao\", \"tao\", \"tao\", \"targeted\", \"task\", \"task\", \"task\", \"teacher\", \"teacher\", \"teacher\", \"teacher\", \"teacher\", \"teaching\", \"teaching\", \"teaching\", \"teaching\", \"teaching\", \"technology\", \"technology\", \"technology\", \"technology\", \"test\", \"test\", \"test\", \"text\", \"theory\", \"thing\", \"thing\", \"thing\", \"thing\", \"think\", \"think\", \"think\", \"think\", \"think\", \"thinking\", \"thinking\", \"thinking\", \"thought\", \"thought\", \"time\", \"time\", \"time\", \"time\", \"time\", \"today\", \"today\", \"tool\", \"tool\", \"tool\", \"tool\", \"tool\", \"topic\", \"topic\", \"topic\", \"trabaho\", \"trabaho\", \"traditional\", \"traditional\", \"trained\", \"tutor\", \"tutor\", \"two\", \"uk\", \"uk\", \"umasa\", \"umasa\", \"understanding\", \"understanding\", \"ung\", \"urgent\", \"use\", \"use\", \"use\", \"use\", \"using\", \"using\", \"using\", \"using\", \"using\", \"various\", \"various\", \"way\", \"way\", \"way\", \"way\", \"way\", \"well\", \"well\", \"well\", \"well\", \"without\", \"without\", \"without\", \"without\", \"without\", \"work\", \"work\", \"work\", \"work\", \"world\", \"world\", \"world\", \"world\", \"world\", \"would\", \"would\", \"would\", \"yan\", \"yan\", \"yan\", \"yan\", \"youth\", \"yun\", \"yun\", \"yung\", \"yung\", \"yung\"]}, \"R\": 30, \"lambda.step\": 0.01, \"plot.opts\": {\"xlab\": \"PC1\", \"ylab\": \"PC2\"}, \"topic.order\": [2, 3, 1, 5, 4]};\n",
              "\n",
              "function LDAvis_load_lib(url, callback){\n",
              "  var s = document.createElement('script');\n",
              "  s.src = url;\n",
              "  s.async = true;\n",
              "  s.onreadystatechange = s.onload = callback;\n",
              "  s.onerror = function(){console.warn(\"failed to load library \" + url);};\n",
              "  document.getElementsByTagName(\"head\")[0].appendChild(s);\n",
              "}\n",
              "\n",
              "if(typeof(LDAvis) !== \"undefined\"){\n",
              "   // already loaded: just create the visualization\n",
              "   !function(LDAvis){\n",
              "       new LDAvis(\"#\" + \"ldavis_el4971340864681897927533734440\", ldavis_el4971340864681897927533734440_data);\n",
              "   }(LDAvis);\n",
              "}else if(typeof define === \"function\" && define.amd){\n",
              "   // require.js is available: use it to load d3/LDAvis\n",
              "   require.config({paths: {d3: \"https://d3js.org/d3.v5\"}});\n",
              "   require([\"d3\"], function(d3){\n",
              "      window.d3 = d3;\n",
              "      LDAvis_load_lib(\"https://cdn.jsdelivr.net/gh/bmabey/pyLDAvis@3.4.0/pyLDAvis/js/ldavis.v3.0.0.js\", function(){\n",
              "        new LDAvis(\"#\" + \"ldavis_el4971340864681897927533734440\", ldavis_el4971340864681897927533734440_data);\n",
              "      });\n",
              "    });\n",
              "}else{\n",
              "    // require.js not available: dynamically load d3 & LDAvis\n",
              "    LDAvis_load_lib(\"https://d3js.org/d3.v5.js\", function(){\n",
              "         LDAvis_load_lib(\"https://cdn.jsdelivr.net/gh/bmabey/pyLDAvis@3.4.0/pyLDAvis/js/ldavis.v3.0.0.js\", function(){\n",
              "                 new LDAvis(\"#\" + \"ldavis_el4971340864681897927533734440\", ldavis_el4971340864681897927533734440_data);\n",
              "            })\n",
              "         });\n",
              "}\n",
              "</script>"
            ]
          },
          "metadata": {},
          "execution_count": 66
        }
      ]
    },
    {
      "cell_type": "markdown",
      "source": [
        "## **Coherence Score**"
      ],
      "metadata": {
        "id": "rRBlUBj8wms8"
      }
    },
    {
      "cell_type": "code",
      "source": [
        "from gensim.models.coherencemodel import CoherenceModel\n",
        "\n",
        "coherence_model_lda = CoherenceModel(model=lda_model, texts=processed_data, dictionary=id2word, coherence='c_v')\n",
        "coherence_lda = coherence_model_lda.get_coherence()\n",
        "print('Coherence Score:', coherence_lda)"
      ],
      "metadata": {
        "colab": {
          "base_uri": "https://localhost:8080/"
        },
        "id": "Cu8XW4Mww_6E",
        "outputId": "5058f281-3d15-4335-84a5-3845190cb4b4"
      },
      "execution_count": 119,
      "outputs": [
        {
          "output_type": "stream",
          "name": "stderr",
          "text": [
            "/usr/local/lib/python3.10/dist-packages/ipykernel/ipkernel.py:283: DeprecationWarning:\n",
            "\n",
            "`should_run_async` will not call `transform_cell` automatically in the future. Please pass the result to `transformed_cell` argument and any exception that happen during thetransform in `preprocessing_exc_tuple` in IPython 7.17 and above.\n",
            "\n"
          ]
        },
        {
          "output_type": "stream",
          "name": "stdout",
          "text": [
            "Coherence Score: 0.37559061171393393\n"
          ]
        }
      ]
    }
  ]
}